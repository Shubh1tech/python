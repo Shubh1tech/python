{
 "cells": [
  {
   "cell_type": "code",
   "execution_count": 1,
   "id": "1cd889d0",
   "metadata": {},
   "outputs": [
    {
     "data": {
      "text/plain": [
       "int"
      ]
     },
     "execution_count": 1,
     "metadata": {},
     "output_type": "execute_result"
    }
   ],
   "source": [
    "a=10\n",
    "type(a)\n"
   ]
  },
  {
   "cell_type": "code",
   "execution_count": 4,
   "id": "9f92bffb",
   "metadata": {},
   "outputs": [
    {
     "data": {
      "text/plain": [
       "bool"
      ]
     },
     "execution_count": 4,
     "metadata": {},
     "output_type": "execute_result"
    }
   ],
   "source": [
    "a=True\n",
    "type(a)"
   ]
  },
  {
   "cell_type": "code",
   "execution_count": 6,
   "id": "b3085439",
   "metadata": {},
   "outputs": [
    {
     "data": {
      "text/plain": [
       "str"
      ]
     },
     "execution_count": 6,
     "metadata": {},
     "output_type": "execute_result"
    }
   ],
   "source": [
    "a=\"True\"\n",
    "type(a)"
   ]
  },
  {
   "cell_type": "code",
   "execution_count": 8,
   "id": "79b6e40f",
   "metadata": {},
   "outputs": [
    {
     "data": {
      "text/plain": [
       "complex"
      ]
     },
     "execution_count": 8,
     "metadata": {},
     "output_type": "execute_result"
    }
   ],
   "source": [
    "a=4+7j\n",
    "type(a)"
   ]
  },
  {
   "cell_type": "code",
   "execution_count": 11,
   "id": "5926ebe4",
   "metadata": {},
   "outputs": [],
   "source": [
    "# shubh"
   ]
  },
  {
   "cell_type": "code",
   "execution_count": 10,
   "id": "ed23c6c7",
   "metadata": {},
   "outputs": [
    {
     "data": {
      "text/plain": [
       "'sbhbhbhbh\\nsbjbbn\\nbshb'"
      ]
     },
     "execution_count": 10,
     "metadata": {},
     "output_type": "execute_result"
    }
   ],
   "source": [
    "'''sbhbhbhbh\n",
    "sbjbbn\n",
    "bshb'''"
   ]
  },
  {
   "cell_type": "code",
   "execution_count": 12,
   "id": "1271f29b",
   "metadata": {},
   "outputs": [],
   "source": [
    "a=\"my name is shubh\""
   ]
  },
  {
   "cell_type": "code",
   "execution_count": 13,
   "id": "f83701d6",
   "metadata": {},
   "outputs": [
    {
     "data": {
      "text/plain": [
       "'my name is shubh'"
      ]
     },
     "execution_count": 13,
     "metadata": {},
     "output_type": "execute_result"
    }
   ],
   "source": [
    "a"
   ]
  },
  {
   "cell_type": "code",
   "execution_count": 14,
   "id": "66331a09",
   "metadata": {},
   "outputs": [
    {
     "data": {
      "text/plain": [
       "\"my name's is shubh\""
      ]
     },
     "execution_count": 14,
     "metadata": {},
     "output_type": "execute_result"
    }
   ],
   "source": [
    "a=\"my name's is shubh\"\n",
    "a"
   ]
  },
  {
   "cell_type": "code",
   "execution_count": 15,
   "id": "d4f3862c",
   "metadata": {},
   "outputs": [
    {
     "ename": "SyntaxError",
     "evalue": "unterminated string literal (detected at line 1) (3305323078.py, line 1)",
     "output_type": "error",
     "traceback": [
      "\u001b[1;36m  Cell \u001b[1;32mIn[15], line 1\u001b[1;36m\u001b[0m\n\u001b[1;33m    a='my name's is shubh'\u001b[0m\n\u001b[1;37m                         ^\u001b[0m\n\u001b[1;31mSyntaxError\u001b[0m\u001b[1;31m:\u001b[0m unterminated string literal (detected at line 1)\n"
     ]
    }
   ],
   "source": [
    "a='my name's is shubh'\n",
    "a"
   ]
  },
  {
   "cell_type": "markdown",
   "id": "19b91217",
   "metadata": {},
   "source": [
    "# indexing\n"
   ]
  },
  {
   "cell_type": "code",
   "execution_count": 16,
   "id": "d7e28c54",
   "metadata": {},
   "outputs": [
    {
     "data": {
      "text/plain": [
       "'s'"
      ]
     },
     "execution_count": 16,
     "metadata": {},
     "output_type": "execute_result"
    }
   ],
   "source": [
    "a=\"shubh\"\n",
    "a[0]"
   ]
  },
  {
   "cell_type": "code",
   "execution_count": 17,
   "id": "9c17685c",
   "metadata": {},
   "outputs": [
    {
     "data": {
      "text/plain": [
       "'h'"
      ]
     },
     "execution_count": 17,
     "metadata": {},
     "output_type": "execute_result"
    }
   ],
   "source": [
    "a[-1]"
   ]
  },
  {
   "cell_type": "code",
   "execution_count": 18,
   "id": "ebce760b",
   "metadata": {
    "scrolled": true
   },
   "outputs": [
    {
     "ename": "IndexError",
     "evalue": "string index out of range",
     "output_type": "error",
     "traceback": [
      "\u001b[1;31m---------------------------------------------------------------------------\u001b[0m",
      "\u001b[1;31mIndexError\u001b[0m                                Traceback (most recent call last)",
      "Cell \u001b[1;32mIn[18], line 1\u001b[0m\n\u001b[1;32m----> 1\u001b[0m a[\u001b[38;5;241m-\u001b[39m\u001b[38;5;241m6\u001b[39m]\n",
      "\u001b[1;31mIndexError\u001b[0m: string index out of range"
     ]
    }
   ],
   "source": [
    "a[-6]"
   ]
  },
  {
   "cell_type": "code",
   "execution_count": 20,
   "id": "fefdc766",
   "metadata": {},
   "outputs": [
    {
     "data": {
      "text/plain": [
       "'shu'"
      ]
     },
     "execution_count": 20,
     "metadata": {},
     "output_type": "execute_result"
    }
   ],
   "source": [
    "a[0:3]\n",
    "#slicing"
   ]
  },
  {
   "cell_type": "code",
   "execution_count": 21,
   "id": "d7b15b59",
   "metadata": {},
   "outputs": [
    {
     "data": {
      "text/plain": [
       "'suh'"
      ]
     },
     "execution_count": 21,
     "metadata": {},
     "output_type": "execute_result"
    }
   ],
   "source": [
    "a[0:5:2]\n",
    "# first is start, second is end+1, third parameter is jump"
   ]
  },
  {
   "cell_type": "code",
   "execution_count": 22,
   "id": "d6a99f19",
   "metadata": {},
   "outputs": [
    {
     "data": {
      "text/plain": [
       "''"
      ]
     },
     "execution_count": 22,
     "metadata": {},
     "output_type": "execute_result"
    }
   ],
   "source": [
    "a[0:5:-1]"
   ]
  },
  {
   "cell_type": "code",
   "execution_count": 23,
   "id": "f067fb26",
   "metadata": {},
   "outputs": [
    {
     "data": {
      "text/plain": [
       "''"
      ]
     },
     "execution_count": 23,
     "metadata": {},
     "output_type": "execute_result"
    }
   ],
   "source": [
    "a[0:5:-2]"
   ]
  },
  {
   "cell_type": "code",
   "execution_count": 25,
   "id": "a36ceb50",
   "metadata": {},
   "outputs": [
    {
     "data": {
      "text/plain": [
       "'hu'"
      ]
     },
     "execution_count": 25,
     "metadata": {},
     "output_type": "execute_result"
    }
   ],
   "source": [
    "a[5:0:-2]"
   ]
  },
  {
   "cell_type": "code",
   "execution_count": 26,
   "id": "06bc8bac",
   "metadata": {},
   "outputs": [
    {
     "data": {
      "text/plain": [
       "'hbuhs'"
      ]
     },
     "execution_count": 26,
     "metadata": {},
     "output_type": "execute_result"
    }
   ],
   "source": [
    "a[::-1]\n",
    "# for reversing the string"
   ]
  },
  {
   "cell_type": "code",
   "execution_count": 29,
   "id": "94b3f1b8",
   "metadata": {},
   "outputs": [],
   "source": [
    "b=list(range(21))"
   ]
  },
  {
   "cell_type": "code",
   "execution_count": 32,
   "id": "4fff3138",
   "metadata": {},
   "outputs": [
    {
     "data": {
      "text/plain": [
       "[0, 1, 2, 3, 4, 5, 6, 7, 8, 9, 10, 11, 12, 13, 14, 15, 16, 17, 18, 19, 20]"
      ]
     },
     "execution_count": 32,
     "metadata": {},
     "output_type": "execute_result"
    }
   ],
   "source": [
    "b[:]"
   ]
  },
  {
   "cell_type": "code",
   "execution_count": 33,
   "id": "dd5cd8c1",
   "metadata": {},
   "outputs": [
    {
     "data": {
      "text/plain": [
       "[0, 1, 2, 3, 4, 5, 6, 7, 8, 9, 10, 11, 12, 13, 14, 15, 16, 17, 18, 19, 20]"
      ]
     },
     "execution_count": 33,
     "metadata": {},
     "output_type": "execute_result"
    }
   ],
   "source": [
    "b[::]"
   ]
  },
  {
   "cell_type": "code",
   "execution_count": 34,
   "id": "9e9875ca",
   "metadata": {},
   "outputs": [
    {
     "data": {
      "text/plain": [
       "[0, 2, 4, 6, 8, 10, 12, 14, 16, 18, 20]"
      ]
     },
     "execution_count": 34,
     "metadata": {},
     "output_type": "execute_result"
    }
   ],
   "source": [
    "b[::2]"
   ]
  },
  {
   "cell_type": "markdown",
   "id": "7e5037e9",
   "metadata": {},
   "source": [
    "# list"
   ]
  },
  {
   "cell_type": "code",
   "execution_count": 35,
   "id": "8671eed1",
   "metadata": {},
   "outputs": [],
   "source": [
    "l=[1,2]"
   ]
  },
  {
   "cell_type": "code",
   "execution_count": 36,
   "id": "0a370fa9",
   "metadata": {},
   "outputs": [
    {
     "data": {
      "text/plain": [
       "list"
      ]
     },
     "execution_count": 36,
     "metadata": {},
     "output_type": "execute_result"
    }
   ],
   "source": [
    "type(l)"
   ]
  },
  {
   "cell_type": "code",
   "execution_count": 37,
   "id": "907f005e",
   "metadata": {},
   "outputs": [
    {
     "data": {
      "text/plain": [
       "list"
      ]
     },
     "execution_count": 37,
     "metadata": {},
     "output_type": "execute_result"
    }
   ],
   "source": [
    "type(b)"
   ]
  },
  {
   "cell_type": "code",
   "execution_count": 38,
   "id": "cd1ebbbe",
   "metadata": {},
   "outputs": [
    {
     "data": {
      "text/plain": [
       "'\\nlist inbuilt fxns:\\nappend\\nextend\\npop\\ninsert\\nremove\\ndel\\nclear\\n'"
      ]
     },
     "execution_count": 38,
     "metadata": {},
     "output_type": "execute_result"
    }
   ],
   "source": [
    "'''\n",
    "list inbuilt fxns:\n",
    "append\n",
    "extend\n",
    "pop\n",
    "insert\n",
    "remove\n",
    "del\n",
    "clear\n",
    "'''"
   ]
  },
  {
   "cell_type": "code",
   "execution_count": 39,
   "id": "e9df2d94",
   "metadata": {},
   "outputs": [],
   "source": [
    "l=[1,2,3]"
   ]
  },
  {
   "cell_type": "code",
   "execution_count": 40,
   "id": "408e5a35",
   "metadata": {},
   "outputs": [
    {
     "data": {
      "text/plain": [
       "[1, 2, 3]"
      ]
     },
     "execution_count": 40,
     "metadata": {},
     "output_type": "execute_result"
    }
   ],
   "source": [
    "l"
   ]
  },
  {
   "cell_type": "code",
   "execution_count": 41,
   "id": "39855f31",
   "metadata": {},
   "outputs": [
    {
     "data": {
      "text/plain": [
       "[1, 2, 3, 4]"
      ]
     },
     "execution_count": 41,
     "metadata": {},
     "output_type": "execute_result"
    }
   ],
   "source": [
    "l=[1,2,3,4]\n",
    "l"
   ]
  },
  {
   "cell_type": "code",
   "execution_count": 42,
   "id": "9907e377",
   "metadata": {},
   "outputs": [],
   "source": [
    "#list is mutable and ordered"
   ]
  },
  {
   "cell_type": "code",
   "execution_count": 43,
   "id": "c7ef3cac",
   "metadata": {},
   "outputs": [
    {
     "data": {
      "text/plain": [
       "[1, 2, 3, 3]"
      ]
     },
     "execution_count": 43,
     "metadata": {},
     "output_type": "execute_result"
    }
   ],
   "source": [
    "l=[1,2,3,3]\n",
    "l"
   ]
  },
  {
   "cell_type": "code",
   "execution_count": 44,
   "id": "128120b8",
   "metadata": {},
   "outputs": [
    {
     "data": {
      "text/plain": [
       "2"
      ]
     },
     "execution_count": 44,
     "metadata": {},
     "output_type": "execute_result"
    }
   ],
   "source": [
    "l[1]"
   ]
  },
  {
   "cell_type": "code",
   "execution_count": 45,
   "id": "083a7d78",
   "metadata": {},
   "outputs": [
    {
     "ename": "IndexError",
     "evalue": "list index out of range",
     "output_type": "error",
     "traceback": [
      "\u001b[1;31m---------------------------------------------------------------------------\u001b[0m",
      "\u001b[1;31mIndexError\u001b[0m                                Traceback (most recent call last)",
      "Cell \u001b[1;32mIn[45], line 1\u001b[0m\n\u001b[1;32m----> 1\u001b[0m l[\u001b[38;5;241m-\u001b[39m\u001b[38;5;241m5\u001b[39m]\n",
      "\u001b[1;31mIndexError\u001b[0m: list index out of range"
     ]
    }
   ],
   "source": [
    "l[-5]"
   ]
  },
  {
   "cell_type": "code",
   "execution_count": 46,
   "id": "784bd148",
   "metadata": {},
   "outputs": [
    {
     "data": {
      "text/plain": [
       "[1, 2, 3]"
      ]
     },
     "execution_count": 46,
     "metadata": {},
     "output_type": "execute_result"
    }
   ],
   "source": [
    "l[0:3]"
   ]
  },
  {
   "cell_type": "code",
   "execution_count": 47,
   "id": "e42d9913",
   "metadata": {},
   "outputs": [
    {
     "data": {
      "text/plain": [
       "range(0, 10)"
      ]
     },
     "execution_count": 47,
     "metadata": {},
     "output_type": "execute_result"
    }
   ],
   "source": [
    "range(10)"
   ]
  },
  {
   "cell_type": "code",
   "execution_count": 48,
   "id": "d699ce2f",
   "metadata": {},
   "outputs": [
    {
     "data": {
      "text/plain": [
       "range(10, 20)"
      ]
     },
     "execution_count": 48,
     "metadata": {},
     "output_type": "execute_result"
    }
   ],
   "source": [
    "range(10,20)"
   ]
  },
  {
   "cell_type": "code",
   "execution_count": 49,
   "id": "746a3826",
   "metadata": {},
   "outputs": [
    {
     "data": {
      "text/plain": [
       "[3, 5, 7, 9, 11, 13]"
      ]
     },
     "execution_count": 49,
     "metadata": {},
     "output_type": "execute_result"
    }
   ],
   "source": [
    "list(range(3,15,2))\n",
    "# ist arg=start,2nd arg=last,3rd is jummp"
   ]
  },
  {
   "cell_type": "code",
   "execution_count": 50,
   "id": "cd4245de",
   "metadata": {},
   "outputs": [
    {
     "ename": "TypeError",
     "evalue": "'float' object cannot be interpreted as an integer",
     "output_type": "error",
     "traceback": [
      "\u001b[1;31m---------------------------------------------------------------------------\u001b[0m",
      "\u001b[1;31mTypeError\u001b[0m                                 Traceback (most recent call last)",
      "Cell \u001b[1;32mIn[50], line 1\u001b[0m\n\u001b[1;32m----> 1\u001b[0m \u001b[38;5;28mrange\u001b[39m(\u001b[38;5;241m10.5\u001b[39m)\n",
      "\u001b[1;31mTypeError\u001b[0m: 'float' object cannot be interpreted as an integer"
     ]
    }
   ],
   "source": [
    "range(10.5)"
   ]
  },
  {
   "cell_type": "code",
   "execution_count": 54,
   "id": "cc0698d2",
   "metadata": {},
   "outputs": [
    {
     "data": {
      "text/plain": [
       "array([ 0.,  1.,  2.,  3.,  4.,  5.,  6.,  7.,  8.,  9., 10.])"
      ]
     },
     "execution_count": 54,
     "metadata": {},
     "output_type": "execute_result"
    }
   ],
   "source": [
    "import numpy as np\n",
    "np.arange(10.5)"
   ]
  },
  {
   "cell_type": "markdown",
   "id": "d8b0a86f",
   "metadata": {},
   "source": [
    "# For loop"
   ]
  },
  {
   "cell_type": "code",
   "execution_count": 56,
   "id": "4c9ae0d9",
   "metadata": {},
   "outputs": [
    {
     "name": "stdout",
     "output_type": "stream",
     "text": [
      "3\n",
      "4\n",
      "5\n",
      "6\n",
      "7\n"
     ]
    }
   ],
   "source": [
    "l=[3,4,5,6,7]\n",
    "for i in l:\n",
    "    print(i)"
   ]
  },
  {
   "cell_type": "code",
   "execution_count": 59,
   "id": "32fddd42",
   "metadata": {},
   "outputs": [],
   "source": [
    "l=[3,4,5,6,7,23,33]\n",
    "a=[]\n",
    "for i in l :\n",
    "    if i >20 :\n",
    "        a.append(i)"
   ]
  },
  {
   "cell_type": "code",
   "execution_count": 60,
   "id": "68628a75",
   "metadata": {},
   "outputs": [
    {
     "data": {
      "text/plain": [
       "[23, 33]"
      ]
     },
     "execution_count": 60,
     "metadata": {},
     "output_type": "execute_result"
    }
   ],
   "source": [
    "a"
   ]
  },
  {
   "cell_type": "code",
   "execution_count": 61,
   "id": "5d1392ac",
   "metadata": {},
   "outputs": [],
   "source": [
    "# break, continue"
   ]
  },
  {
   "cell_type": "markdown",
   "id": "64e92d55",
   "metadata": {},
   "source": [
    "# concatenation"
   ]
  },
  {
   "cell_type": "code",
   "execution_count": 62,
   "id": "1ac7c9cc",
   "metadata": {},
   "outputs": [
    {
     "data": {
      "text/plain": [
       "'shubhsingh'"
      ]
     },
     "execution_count": 62,
     "metadata": {},
     "output_type": "execute_result"
    }
   ],
   "source": [
    "\"shubh\" + \"singh\""
   ]
  },
  {
   "cell_type": "code",
   "execution_count": 63,
   "id": "149aa270",
   "metadata": {},
   "outputs": [
    {
     "ename": "TypeError",
     "evalue": "can only concatenate str (not \"int\") to str",
     "output_type": "error",
     "traceback": [
      "\u001b[1;31m---------------------------------------------------------------------------\u001b[0m",
      "\u001b[1;31mTypeError\u001b[0m                                 Traceback (most recent call last)",
      "Cell \u001b[1;32mIn[63], line 1\u001b[0m\n\u001b[1;32m----> 1\u001b[0m \u001b[38;5;124m\"\u001b[39m\u001b[38;5;124mshubh\u001b[39m\u001b[38;5;124m\"\u001b[39m\u001b[38;5;241m+\u001b[39m\u001b[38;5;241m1\u001b[39m\n",
      "\u001b[1;31mTypeError\u001b[0m: can only concatenate str (not \"int\") to str"
     ]
    }
   ],
   "source": [
    "\"shubh\"+1"
   ]
  },
  {
   "cell_type": "code",
   "execution_count": 65,
   "id": "8fc9ce98",
   "metadata": {},
   "outputs": [
    {
     "data": {
      "text/plain": [
       "'SHUBH'"
      ]
     },
     "execution_count": 65,
     "metadata": {},
     "output_type": "execute_result"
    }
   ],
   "source": [
    "s= \"shubh\"\n",
    "s.upper()"
   ]
  },
  {
   "cell_type": "code",
   "execution_count": 66,
   "id": "1a21fe9f",
   "metadata": {},
   "outputs": [
    {
     "data": {
      "text/plain": [
       "'shubh'"
      ]
     },
     "execution_count": 66,
     "metadata": {},
     "output_type": "execute_result"
    }
   ],
   "source": [
    "s=\"SHUBH\"\n",
    "s.lower()"
   ]
  },
  {
   "cell_type": "markdown",
   "id": "ff6baadd",
   "metadata": {},
   "source": [
    "# SPLIT"
   ]
  },
  {
   "cell_type": "code",
   "execution_count": 67,
   "id": "5736e018",
   "metadata": {},
   "outputs": [
    {
     "data": {
      "text/plain": [
       "['my', 'name', 'is', 'shubh']"
      ]
     },
     "execution_count": 67,
     "metadata": {},
     "output_type": "execute_result"
    }
   ],
   "source": [
    "a=\"my name is shubh\"\n",
    "a.split()"
   ]
  },
  {
   "cell_type": "code",
   "execution_count": 69,
   "id": "801fc9fe",
   "metadata": {},
   "outputs": [
    {
     "data": {
      "text/plain": [
       "['my', 'name', 'is', 'shubh']"
      ]
     },
     "execution_count": 69,
     "metadata": {},
     "output_type": "execute_result"
    }
   ],
   "source": [
    "a=\"my@name@is@shubh\"\n",
    "a.split(\"@\")"
   ]
  },
  {
   "cell_type": "markdown",
   "id": "4fcc11d2",
   "metadata": {},
   "source": [
    "# PARTITION"
   ]
  },
  {
   "cell_type": "code",
   "execution_count": 70,
   "id": "dd3035d7",
   "metadata": {},
   "outputs": [
    {
     "data": {
      "text/plain": [
       "('my', '@', 'name@is@shubh')"
      ]
     },
     "execution_count": 70,
     "metadata": {},
     "output_type": "execute_result"
    }
   ],
   "source": [
    "a=\"my@name@is@shubh\"\n",
    "a.partition(\"@\")"
   ]
  },
  {
   "cell_type": "code",
   "execution_count": 71,
   "id": "520a581e",
   "metadata": {},
   "outputs": [
    {
     "data": {
      "text/plain": [
       "2"
      ]
     },
     "execution_count": 71,
     "metadata": {},
     "output_type": "execute_result"
    }
   ],
   "source": [
    "a=\"my@name@is@shubh\"\n",
    "a.find(\"@\")"
   ]
  },
  {
   "cell_type": "code",
   "execution_count": 72,
   "id": "48db5be8",
   "metadata": {},
   "outputs": [
    {
     "data": {
      "text/plain": [
       "-1"
      ]
     },
     "execution_count": 72,
     "metadata": {},
     "output_type": "execute_result"
    }
   ],
   "source": [
    "a.find(\"z\")"
   ]
  },
  {
   "cell_type": "markdown",
   "id": "e3c5e269",
   "metadata": {},
   "source": [
    "# format"
   ]
  },
  {
   "cell_type": "code",
   "execution_count": 1,
   "id": "ec05e7e3",
   "metadata": {},
   "outputs": [],
   "source": [
    "str=\"my name is {}\".format(\"shubh\")"
   ]
  },
  {
   "cell_type": "code",
   "execution_count": 2,
   "id": "9f19d1d4",
   "metadata": {},
   "outputs": [
    {
     "data": {
      "text/plain": [
       "'my name is shubh'"
      ]
     },
     "execution_count": 2,
     "metadata": {},
     "output_type": "execute_result"
    }
   ],
   "source": [
    "str"
   ]
  },
  {
   "cell_type": "code",
   "execution_count": 5,
   "id": "9492443e",
   "metadata": {},
   "outputs": [
    {
     "data": {
      "text/plain": [
       "'my name is shubh'"
      ]
     },
     "execution_count": 5,
     "metadata": {},
     "output_type": "execute_result"
    }
   ],
   "source": [
    "str=\"my name is {}\".format(\"shubh\",\"singh\")\n",
    "str"
   ]
  },
  {
   "cell_type": "code",
   "execution_count": 6,
   "id": "c4d520b3",
   "metadata": {},
   "outputs": [
    {
     "ename": "IndexError",
     "evalue": "Replacement index 1 out of range for positional args tuple",
     "output_type": "error",
     "traceback": [
      "\u001b[1;31m---------------------------------------------------------------------------\u001b[0m",
      "\u001b[1;31mIndexError\u001b[0m                                Traceback (most recent call last)",
      "Cell \u001b[1;32mIn[6], line 1\u001b[0m\n\u001b[1;32m----> 1\u001b[0m \u001b[38;5;28mstr\u001b[39m\u001b[38;5;241m=\u001b[39m\u001b[38;5;124m\"\u001b[39m\u001b[38;5;124mmy name is \u001b[39m\u001b[38;5;132;01m{}\u001b[39;00m\u001b[38;5;132;01m{}\u001b[39;00m\u001b[38;5;124m\"\u001b[39m\u001b[38;5;241m.\u001b[39mformat(\u001b[38;5;124m\"\u001b[39m\u001b[38;5;124mshubh\u001b[39m\u001b[38;5;124m\"\u001b[39m)\n\u001b[0;32m      2\u001b[0m \u001b[38;5;28mstr\u001b[39m\n",
      "\u001b[1;31mIndexError\u001b[0m: Replacement index 1 out of range for positional args tuple"
     ]
    }
   ],
   "source": [
    "str=\"my name is {}{}\".format(\"shubh\")\n",
    "str"
   ]
  },
  {
   "cell_type": "code",
   "execution_count": 9,
   "id": "9cb3eeff",
   "metadata": {},
   "outputs": [
    {
     "name": "stdout",
     "output_type": "stream",
     "text": [
      "pls give ur nameshubh\n"
     ]
    },
    {
     "data": {
      "text/plain": [
       "'my name is shubh'"
      ]
     },
     "execution_count": 9,
     "metadata": {},
     "output_type": "execute_result"
    }
   ],
   "source": [
    "a=input(\"pls give ur name\")\n",
    "\"my name is {}\".format(a)"
   ]
  },
  {
   "cell_type": "code",
   "execution_count": 11,
   "id": "491ba3c1",
   "metadata": {},
   "outputs": [
    {
     "name": "stdout",
     "output_type": "stream",
     "text": [
      "pls give ur name1\n"
     ]
    },
    {
     "data": {
      "text/plain": [
       "'my name is 1'"
      ]
     },
     "execution_count": 11,
     "metadata": {},
     "output_type": "execute_result"
    }
   ],
   "source": [
    "a=int(input(\"pls give ur name\"))\n",
    "\"my name is {}\".format(a)"
   ]
  },
  {
   "cell_type": "code",
   "execution_count": 12,
   "id": "3822794c",
   "metadata": {},
   "outputs": [
    {
     "data": {
      "text/plain": [
       "['s', 'h', 'u', 'b', 'h']"
      ]
     },
     "execution_count": 12,
     "metadata": {},
     "output_type": "execute_result"
    }
   ],
   "source": [
    "list(\"shubh\")"
   ]
  },
  {
   "cell_type": "markdown",
   "id": "68fa7265",
   "metadata": {},
   "source": [
    "# append and insert"
   ]
  },
  {
   "cell_type": "code",
   "execution_count": 13,
   "id": "5e8f4ccd",
   "metadata": {},
   "outputs": [
    {
     "data": {
      "text/plain": [
       "[4, 5, 'shubh', 'singh']"
      ]
     },
     "execution_count": 13,
     "metadata": {},
     "output_type": "execute_result"
    }
   ],
   "source": [
    "a=[4,5,\"shubh\"]\n",
    "a.append(\"singh\")\n",
    "a"
   ]
  },
  {
   "cell_type": "code",
   "execution_count": 14,
   "id": "3ff970e9",
   "metadata": {},
   "outputs": [],
   "source": [
    "a.insert(2,\"mr\")"
   ]
  },
  {
   "cell_type": "code",
   "execution_count": 15,
   "id": "9bd9914b",
   "metadata": {},
   "outputs": [
    {
     "data": {
      "text/plain": [
       "[4, 5, 'mr', 'shubh', 'singh']"
      ]
     },
     "execution_count": 15,
     "metadata": {},
     "output_type": "execute_result"
    }
   ],
   "source": [
    "a"
   ]
  },
  {
   "cell_type": "markdown",
   "id": "01f55e4c",
   "metadata": {},
   "source": [
    "# pop"
   ]
  },
  {
   "cell_type": "code",
   "execution_count": 16,
   "id": "39e91f21",
   "metadata": {},
   "outputs": [
    {
     "data": {
      "text/plain": [
       "5"
      ]
     },
     "execution_count": 16,
     "metadata": {},
     "output_type": "execute_result"
    }
   ],
   "source": [
    "a.pop(1)"
   ]
  },
  {
   "cell_type": "code",
   "execution_count": 17,
   "id": "0d913f58",
   "metadata": {},
   "outputs": [
    {
     "data": {
      "text/plain": [
       "[4, 'mr', 'shubh', 'singh']"
      ]
     },
     "execution_count": 17,
     "metadata": {},
     "output_type": "execute_result"
    }
   ],
   "source": [
    "a"
   ]
  },
  {
   "cell_type": "code",
   "execution_count": 18,
   "id": "576e7d1b",
   "metadata": {},
   "outputs": [
    {
     "data": {
      "text/plain": [
       "'singh'"
      ]
     },
     "execution_count": 18,
     "metadata": {},
     "output_type": "execute_result"
    }
   ],
   "source": [
    "a.pop()"
   ]
  },
  {
   "cell_type": "code",
   "execution_count": 19,
   "id": "d24e417a",
   "metadata": {},
   "outputs": [],
   "source": [
    "#khali pop me last element niklega"
   ]
  },
  {
   "cell_type": "code",
   "execution_count": 20,
   "id": "a3097a11",
   "metadata": {},
   "outputs": [
    {
     "data": {
      "text/plain": [
       "'hbuhs'"
      ]
     },
     "execution_count": 20,
     "metadata": {},
     "output_type": "execute_result"
    }
   ],
   "source": [
    "a=\"shubh\"\n",
    "a[::-1]"
   ]
  },
  {
   "cell_type": "code",
   "execution_count": 21,
   "id": "a0d65722",
   "metadata": {},
   "outputs": [
    {
     "data": {
      "text/plain": [
       "'shubh'"
      ]
     },
     "execution_count": 21,
     "metadata": {},
     "output_type": "execute_result"
    }
   ],
   "source": [
    "a"
   ]
  },
  {
   "cell_type": "code",
   "execution_count": 30,
   "id": "03c15df9",
   "metadata": {},
   "outputs": [
    {
     "name": "stdout",
     "output_type": "stream",
     "text": [
      "['singh', 'shubh']\n"
     ]
    }
   ],
   "source": [
    "a=[\"shubh\",\"singh\"]\n",
    "a.reverse()\n",
    "print(a)"
   ]
  },
  {
   "cell_type": "code",
   "execution_count": 31,
   "id": "d2d03118",
   "metadata": {},
   "outputs": [
    {
     "name": "stdout",
     "output_type": "stream",
     "text": [
      "['o', 'l', 'l', 'e', 'h']\n"
     ]
    }
   ],
   "source": [
    "my_string = \"hello\"\n",
    "reversed_string = list(my_string)\n",
    "reversed_string.reverse()\n",
    "print(reversed_string)"
   ]
  },
  {
   "cell_type": "code",
   "execution_count": 32,
   "id": "3c86d3b1",
   "metadata": {},
   "outputs": [
    {
     "data": {
      "text/plain": [
       "['o', 'l', 'l', 'e', 'h']"
      ]
     },
     "execution_count": 32,
     "metadata": {},
     "output_type": "execute_result"
    }
   ],
   "source": [
    "reversed_string"
   ]
  },
  {
   "cell_type": "code",
   "execution_count": 33,
   "id": "f4efb3b9",
   "metadata": {},
   "outputs": [],
   "source": [
    "#reverse fxn permanent change hota h aur ::-1 temporary hota hai"
   ]
  },
  {
   "cell_type": "markdown",
   "id": "4c2cf922",
   "metadata": {},
   "source": [
    "# sorting"
   ]
  },
  {
   "cell_type": "code",
   "execution_count": 34,
   "id": "d782ff36",
   "metadata": {},
   "outputs": [
    {
     "data": {
      "text/plain": [
       "[1, 3, 5, 10, 24]"
      ]
     },
     "execution_count": 34,
     "metadata": {},
     "output_type": "execute_result"
    }
   ],
   "source": [
    "s=[1,24,3,5,10]\n",
    "s.sort()\n",
    "s"
   ]
  },
  {
   "cell_type": "code",
   "execution_count": 36,
   "id": "bfd88c01",
   "metadata": {},
   "outputs": [
    {
     "data": {
      "text/plain": [
       "[24, 10, 5, 3, 1]"
      ]
     },
     "execution_count": 36,
     "metadata": {},
     "output_type": "execute_result"
    }
   ],
   "source": [
    "s=[1,24,3,5,10]\n",
    "s.sort(reverse=True)\n",
    "s"
   ]
  },
  {
   "cell_type": "markdown",
   "id": "56c261e5",
   "metadata": {},
   "source": [
    "# list comprehenson"
   ]
  },
  {
   "cell_type": "code",
   "execution_count": 39,
   "id": "a6c004fe",
   "metadata": {},
   "outputs": [
    {
     "data": {
      "text/plain": [
       "[0, 1, 4, 9, 16, 25, 36, 49, 64, 81, 100]"
      ]
     },
     "execution_count": 39,
     "metadata": {},
     "output_type": "execute_result"
    }
   ],
   "source": [
    "a=[]\n",
    "for i in range(11):\n",
    "   a.append(i**2)\n",
    "a"
   ]
  },
  {
   "cell_type": "code",
   "execution_count": 40,
   "id": "ad262abd",
   "metadata": {},
   "outputs": [
    {
     "name": "stdout",
     "output_type": "stream",
     "text": [
      "[0, 1, 4, 9, 16, 25, 36, 49, 64, 81]\n"
     ]
    }
   ],
   "source": [
    "squares = [x**2 for x in range(10)]\n",
    "print(squares)"
   ]
  },
  {
   "cell_type": "code",
   "execution_count": 41,
   "id": "675818ee",
   "metadata": {},
   "outputs": [
    {
     "name": "stdout",
     "output_type": "stream",
     "text": [
      "[0, 4, 16, 36, 64]\n"
     ]
    }
   ],
   "source": [
    "squares = [x**2 for x in range(10) if x%2==0]\n",
    "print(squares)"
   ]
  },
  {
   "cell_type": "markdown",
   "id": "0c0f3362",
   "metadata": {},
   "source": [
    "# extend"
   ]
  },
  {
   "cell_type": "code",
   "execution_count": 42,
   "id": "6c824c74",
   "metadata": {},
   "outputs": [
    {
     "data": {
      "text/plain": [
       "[1, 2, 3, 4, [5, 6, 7]]"
      ]
     },
     "execution_count": 42,
     "metadata": {},
     "output_type": "execute_result"
    }
   ],
   "source": [
    "a=[1,2,3,4]\n",
    "a.append([5,6,7])\n",
    "a"
   ]
  },
  {
   "cell_type": "code",
   "execution_count": 43,
   "id": "9fea4e18",
   "metadata": {},
   "outputs": [
    {
     "data": {
      "text/plain": [
       "[1, 2, 3, 4, 5, 6, 7]"
      ]
     },
     "execution_count": 43,
     "metadata": {},
     "output_type": "execute_result"
    }
   ],
   "source": [
    "a=[1,2,3,4]\n",
    "a.extend([5,6,7])\n",
    "a"
   ]
  },
  {
   "cell_type": "code",
   "execution_count": 44,
   "id": "e8550111",
   "metadata": {},
   "outputs": [
    {
     "data": {
      "text/plain": [
       "'\\nWhat is a list in Python?\\nHow do you create an empty list in Python?\\nWhat is the difference between lists and tuples in Python?\\nHow do you access elements in a list in Python?\\nExplain list slicing in Python with an example.\\nWhat is the difference between append() and extend() methods in Python lists?\\nHow do you remove an element from a list in Python?\\nExplain the difference between del, remove(), and pop() methods for removing elements from a list.\\nHow do you iterate over elements in a list in Python?\\nWhat is list comprehension in Python? Provide an example.\\nHow do you sort a list in Python?\\nWhat is the difference between sorted() and sort() methods for sorting a list?\\nExplain the difference between shallow copy and deep copy of a list in Python.\\nWhat is the zip() function in Python? How can you use it with lists?\\nExplain the difference between the index() and count() methods in Python lists.\\nHow do you check if an element exists in a list in Python?\\nWhat is the reverse() method in Python lists?\\nHow do you concatenate two lists in Python?\\nWhat is the max() and min() function in Python? How do you use them with lists?\\nExplain the concept of list comprehension with conditional expressions.\\n'"
      ]
     },
     "execution_count": 44,
     "metadata": {},
     "output_type": "execute_result"
    }
   ],
   "source": [
    "'''\n",
    "What is a list in Python?\n",
    "How do you create an empty list in Python?\n",
    "What is the difference between lists and tuples in Python?\n",
    "How do you access elements in a list in Python?\n",
    "Explain list slicing in Python with an example.\n",
    "What is the difference between append() and extend() methods in Python lists?\n",
    "How do you remove an element from a list in Python?\n",
    "Explain the difference between del, remove(), and pop() methods for removing elements from a list.\n",
    "How do you iterate over elements in a list in Python?\n",
    "What is list comprehension in Python? Provide an example.\n",
    "How do you sort a list in Python?\n",
    "What is the difference between sorted() and sort() methods for sorting a list?\n",
    "Explain the difference between shallow copy and deep copy of a list in Python.\n",
    "What is the zip() function in Python? How can you use it with lists?\n",
    "Explain the difference between the index() and count() methods in Python lists.\n",
    "How do you check if an element exists in a list in Python?\n",
    "What is the reverse() method in Python lists?\n",
    "How do you concatenate two lists in Python?\n",
    "What is the max() and min() function in Python? How do you use them with lists?\n",
    "Explain the concept of list comprehension with conditional expressions.\n",
    "'''"
   ]
  },
  {
   "cell_type": "markdown",
   "id": "915757dc",
   "metadata": {},
   "source": [
    "# JSON.dump and JSON.load"
   ]
  },
  {
   "cell_type": "code",
   "execution_count": 1,
   "id": "bf5ccfab",
   "metadata": {},
   "outputs": [
    {
     "name": "stdout",
     "output_type": "stream",
     "text": [
      "<class 'str'>\n",
      "{'name': 'John', 'age': 30}\n",
      "<class 'dict'>\n"
     ]
    }
   ],
   "source": [
    "import json\n",
    "\n",
    "# json.dumps\n",
    "\"\"\"\n",
    "# It is used to serialize a Python object into a JSON-formatted string.\n",
    "# The input to json.dumps is a Python object, such as a dictionary, list, string, integer, float, or Boolean.\n",
    "# It returns a JSON-formatted string representing the Python object.\n",
    "python_dict = {'name': 'John', 'age': 30}\n",
    "print(type(python_dict))\n",
    "json_string = json.dumps(python_dict)\n",
    "print(json_string)\n",
    "print(type(json_string))\n",
    "\"\"\"\n",
    "\n",
    "# json.loads\n",
    "# It is used to deserialize a JSON string (i.e., convert a JSON string into a Python data structure).\n",
    "# The input to json.loads is a JSON-formatted string.\n",
    "# It returns a Python object, such as a dictionary, list, string, integer, float, or Boolean, depending on the JSON data.\n",
    "json_string = '{\"name\": \"John\", \"age\": 30}'\n",
    "print(type(json_string))\n",
    "python_dict = json.loads(json_string)\n",
    "print(python_dict)\n",
    "print(type(python_dict))\n",
    "# Output: {'name': 'John', 'age': 30}"
   ]
  },
  {
   "cell_type": "code",
   "execution_count": 2,
   "id": "0dcd316a",
   "metadata": {},
   "outputs": [
    {
     "name": "stdout",
     "output_type": "stream",
     "text": [
      "<class 'dict'>\n",
      "{\"name\": \"John\", \"age\": 30}\n",
      "<class 'str'>\n"
     ]
    }
   ],
   "source": [
    "python_dict = {'name': 'John', 'age': 30}\n",
    "print(type(python_dict))\n",
    "json_string = json.dumps(python_dict)\n",
    "print(json_string)\n",
    "print(type(json_string))"
   ]
  },
  {
   "cell_type": "markdown",
   "id": "430f653f",
   "metadata": {},
   "source": [
    "# Tuple"
   ]
  },
  {
   "cell_type": "code",
   "execution_count": 3,
   "id": "dcc034b1",
   "metadata": {},
   "outputs": [
    {
     "data": {
      "text/plain": [
       "tuple"
      ]
     },
     "execution_count": 3,
     "metadata": {},
     "output_type": "execute_result"
    }
   ],
   "source": [
    "a=()\n",
    "type(a)"
   ]
  },
  {
   "cell_type": "code",
   "execution_count": 4,
   "id": "7cb58bb7",
   "metadata": {},
   "outputs": [],
   "source": [
    "#immutable and orderer and duplicates allowed"
   ]
  },
  {
   "cell_type": "code",
   "execution_count": 5,
   "id": "ec950d18",
   "metadata": {},
   "outputs": [
    {
     "data": {
      "text/plain": [
       "(1, 2, 3, 4)"
      ]
     },
     "execution_count": 5,
     "metadata": {},
     "output_type": "execute_result"
    }
   ],
   "source": [
    "a=(1,2,3,4)\n",
    "a"
   ]
  },
  {
   "cell_type": "code",
   "execution_count": 6,
   "id": "a1b25eed",
   "metadata": {},
   "outputs": [
    {
     "ename": "TypeError",
     "evalue": "'tuple' object does not support item assignment",
     "output_type": "error",
     "traceback": [
      "\u001b[1;31m---------------------------------------------------------------------------\u001b[0m",
      "\u001b[1;31mTypeError\u001b[0m                                 Traceback (most recent call last)",
      "Cell \u001b[1;32mIn[6], line 1\u001b[0m\n\u001b[1;32m----> 1\u001b[0m a[\u001b[38;5;241m1\u001b[39m]\u001b[38;5;241m=\u001b[39m\u001b[38;5;241m5\u001b[39m\n",
      "\u001b[1;31mTypeError\u001b[0m: 'tuple' object does not support item assignment"
     ]
    }
   ],
   "source": [
    "a[1]=5"
   ]
  },
  {
   "cell_type": "code",
   "execution_count": 7,
   "id": "4e6bd997",
   "metadata": {},
   "outputs": [
    {
     "data": {
      "text/plain": [
       "'\\nWhat is a tuple in Python?\\nHow do you create a tuple in Python?\\nWhat is the difference between a tuple and a list in Python?\\nCan you modify a tuple after it has been created?\\nHow do you access elements in a tuple?\\nWhat is tuple unpacking in Python? Provide an example.\\nHow do you concatenate or combine two tuples in Python?\\nWhat is the purpose of parentheses in tuple syntax?\\nExplain the use of the * operator in tuple unpacking.\\nHow do you convert a tuple into a list in Python?\\nWhat are the advantages of using tuples over lists in certain situations?\\nCan a tuple contain mutable elements like lists or dictionaries?\\nWhat is the count() method in tuples? How is it used?\\nWhat is the index() method in tuples? How is it used?\\nExplain the concept of nested tuples with an example.\\nWhat are named tuples in Python? How are they different from regular tuples?\\nHow do you check if an element exists in a tuple?\\nWhat is the significance of immutability in tuples?\\nHow do you iterate over elements in a tuple in Python?\\nWhat are some common use cases for tuples in Python programming?'"
      ]
     },
     "execution_count": 7,
     "metadata": {},
     "output_type": "execute_result"
    }
   ],
   "source": [
    "'''\n",
    "What is a tuple in Python?\n",
    "How do you create a tuple in Python?\n",
    "What is the difference between a tuple and a list in Python?\n",
    "Can you modify a tuple after it has been created?\n",
    "How do you access elements in a tuple?\n",
    "What is tuple unpacking in Python? Provide an example.\n",
    "How do you concatenate or combine two tuples in Python?\n",
    "What is the purpose of parentheses in tuple syntax?\n",
    "Explain the use of the * operator in tuple unpacking.\n",
    "How do you convert a tuple into a list in Python?\n",
    "What are the advantages of using tuples over lists in certain situations?\n",
    "Can a tuple contain mutable elements like lists or dictionaries?\n",
    "What is the count() method in tuples? How is it used?\n",
    "What is the index() method in tuples? How is it used?\n",
    "Explain the concept of nested tuples with an example.\n",
    "What are named tuples in Python? How are they different from regular tuples?\n",
    "How do you check if an element exists in a tuple?\n",
    "What is the significance of immutability in tuples?\n",
    "How do you iterate over elements in a tuple in Python?\n",
    "What are some common use cases for tuples in Python programming?'''"
   ]
  },
  {
   "cell_type": "markdown",
   "id": "00f19023",
   "metadata": {},
   "source": [
    "# set"
   ]
  },
  {
   "cell_type": "code",
   "execution_count": 19,
   "id": "a0bb6dee",
   "metadata": {},
   "outputs": [
    {
     "data": {
      "text/plain": [
       "set"
      ]
     },
     "execution_count": 19,
     "metadata": {},
     "output_type": "execute_result"
    }
   ],
   "source": [
    "s={1,2}\n",
    "type(s)"
   ]
  },
  {
   "cell_type": "code",
   "execution_count": 9,
   "id": "ccb6bc79",
   "metadata": {},
   "outputs": [
    {
     "data": {
      "text/plain": [
       "set"
      ]
     },
     "execution_count": 9,
     "metadata": {},
     "output_type": "execute_result"
    }
   ],
   "source": [
    "s=set([1,2,3,4])\n",
    "\n",
    "type(s)"
   ]
  },
  {
   "cell_type": "code",
   "execution_count": 11,
   "id": "badc3f36",
   "metadata": {},
   "outputs": [
    {
     "data": {
      "text/plain": [
       "{1, 4, 444, 555}"
      ]
     },
     "execution_count": 11,
     "metadata": {},
     "output_type": "execute_result"
    }
   ],
   "source": [
    "s={1,1,1,444,555,555,4}\n",
    "s"
   ]
  },
  {
   "cell_type": "code",
   "execution_count": 18,
   "id": "a2939bd8",
   "metadata": {},
   "outputs": [],
   "source": [
    "#mutable,unordered,duplicates not allowed"
   ]
  },
  {
   "cell_type": "code",
   "execution_count": 15,
   "id": "80a30750",
   "metadata": {},
   "outputs": [
    {
     "data": {
      "text/plain": [
       "'\\nWhat is a set in Python?\\nHow do you create a set in Python?\\nWhat is the difference between a set and a list in Python?\\nCan a set contain duplicate elements?\\nHow do you remove duplicate elements from a list in Python using sets?\\nHow do you access elements in a set?\\nWhat operations can you perform on sets in Python?\\nExplain the difference between a union and an intersection of sets.\\nWhat is the purpose of using sets in Python?\\nWhat is the difference between a set and a frozenset?\\nHow do you add elements to a set in Python?\\nHow do you remove elements from a set in Python?\\nWhat is the update() method in sets? How is it used?\\nWhat is the difference() method in sets? How is it used?\\nWhat is the intersection() method in sets? How is it used?\\nHow do you check if an element exists in a set in Python?\\nWhat is the issubset() method in sets? How is it used?\\nWhat is the issuperset() method in sets? How is it used?\\nWhat is the symmetric_difference() method in sets? How is it used?\\nCan you use indexing to access elements in a set?'"
      ]
     },
     "execution_count": 15,
     "metadata": {},
     "output_type": "execute_result"
    }
   ],
   "source": [
    "'''\n",
    "What is a set in Python?\n",
    "How do you create a set in Python?\n",
    "What is the difference between a set and a list in Python?\n",
    "Can a set contain duplicate elements?\n",
    "How do you remove duplicate elements from a list in Python using sets?\n",
    "How do you access elements in a set?\n",
    "What operations can you perform on sets in Python?\n",
    "Explain the difference between a union and an intersection of sets.\n",
    "What is the purpose of using sets in Python?\n",
    "What is the difference between a set and a frozenset?\n",
    "How do you add elements to a set in Python?\n",
    "How do you remove elements from a set in Python?\n",
    "What is the update() method in sets? How is it used?\n",
    "What is the difference() method in sets? How is it used?\n",
    "What is the intersection() method in sets? How is it used?\n",
    "How do you check if an element exists in a set in Python?\n",
    "What is the issubset() method in sets? How is it used?\n",
    "What is the issuperset() method in sets? How is it used?\n",
    "What is the symmetric_difference() method in sets? How is it used?\n",
    "Can you use indexing to access elements in a set?'''"
   ]
  },
  {
   "cell_type": "markdown",
   "id": "ddc0f435",
   "metadata": {},
   "source": [
    "# dictonary"
   ]
  },
  {
   "cell_type": "code",
   "execution_count": 16,
   "id": "473049dc",
   "metadata": {},
   "outputs": [],
   "source": [
    "#duplicates not allowed,ordered**,mutable\n"
   ]
  },
  {
   "cell_type": "code",
   "execution_count": 17,
   "id": "81c0a56c",
   "metadata": {},
   "outputs": [
    {
     "data": {
      "text/plain": [
       "dict"
      ]
     },
     "execution_count": 17,
     "metadata": {},
     "output_type": "execute_result"
    }
   ],
   "source": [
    "dict={}\n",
    "type(dict)"
   ]
  },
  {
   "cell_type": "code",
   "execution_count": 20,
   "id": "be868026",
   "metadata": {},
   "outputs": [
    {
     "data": {
      "text/plain": [
       "{0: 0, 1: 1, 2: 4, 3: 9, 4: 16, 5: 25, 6: 36, 7: 49, 8: 64, 9: 81}"
      ]
     },
     "execution_count": 20,
     "metadata": {},
     "output_type": "execute_result"
    }
   ],
   "source": [
    "for i in range(10):\n",
    "    dict[i]=(i**2)\n",
    "dict"
   ]
  },
  {
   "cell_type": "code",
   "execution_count": 24,
   "id": "59ea5e4d",
   "metadata": {},
   "outputs": [
    {
     "data": {
      "text/plain": [
       "{0: 0, 1: 1, 2: 4, 3: 9, 4: 16, 5: 25, 6: 36, 7: 49, 8: 64, 9: 81}"
      ]
     },
     "execution_count": 24,
     "metadata": {},
     "output_type": "execute_result"
    }
   ],
   "source": [
    "d={i:i**2 for i in range(10)}\n",
    "d"
   ]
  },
  {
   "cell_type": "code",
   "execution_count": 25,
   "id": "7b3b90ec",
   "metadata": {},
   "outputs": [
    {
     "data": {
      "text/plain": [
       "dict_items([(0, 0), (1, 1), (2, 4), (3, 9), (4, 16), (5, 25), (6, 36), (7, 49), (8, 64), (9, 81)])"
      ]
     },
     "execution_count": 25,
     "metadata": {},
     "output_type": "execute_result"
    }
   ],
   "source": [
    "d.items()"
   ]
  },
  {
   "cell_type": "code",
   "execution_count": 26,
   "id": "2d382e1d",
   "metadata": {},
   "outputs": [
    {
     "data": {
      "text/plain": [
       "dict_keys([0, 1, 2, 3, 4, 5, 6, 7, 8, 9])"
      ]
     },
     "execution_count": 26,
     "metadata": {},
     "output_type": "execute_result"
    }
   ],
   "source": [
    "d.keys()"
   ]
  },
  {
   "cell_type": "code",
   "execution_count": 27,
   "id": "dd0d07dd",
   "metadata": {},
   "outputs": [
    {
     "data": {
      "text/plain": [
       "dict_values([0, 1, 4, 9, 16, 25, 36, 49, 64, 81])"
      ]
     },
     "execution_count": 27,
     "metadata": {},
     "output_type": "execute_result"
    }
   ],
   "source": [
    "d.values()"
   ]
  },
  {
   "cell_type": "code",
   "execution_count": 28,
   "id": "f21fef9d",
   "metadata": {},
   "outputs": [
    {
     "data": {
      "text/plain": [
       "10"
      ]
     },
     "execution_count": 28,
     "metadata": {},
     "output_type": "execute_result"
    }
   ],
   "source": [
    "len(dict)"
   ]
  },
  {
   "cell_type": "code",
   "execution_count": 33,
   "id": "8ae1a7a9",
   "metadata": {},
   "outputs": [
    {
     "data": {
      "text/plain": [
       "'tanu'"
      ]
     },
     "execution_count": 33,
     "metadata": {},
     "output_type": "execute_result"
    }
   ],
   "source": [
    "#how to access value at a key \n",
    "dic={1:\"shubh\",2:\"tanu\"}\n",
    "dic[2]"
   ]
  },
  {
   "cell_type": "code",
   "execution_count": 34,
   "id": "52f6a404",
   "metadata": {},
   "outputs": [
    {
     "data": {
      "text/plain": [
       "'tanu'"
      ]
     },
     "execution_count": 34,
     "metadata": {},
     "output_type": "execute_result"
    }
   ],
   "source": [
    "dic.get(2)"
   ]
  },
  {
   "cell_type": "code",
   "execution_count": 29,
   "id": "9decb467",
   "metadata": {},
   "outputs": [
    {
     "data": {
      "text/plain": [
       "{}"
      ]
     },
     "execution_count": 29,
     "metadata": {},
     "output_type": "execute_result"
    }
   ],
   "source": [
    "d.clear()\n",
    "d"
   ]
  },
  {
   "cell_type": "code",
   "execution_count": 30,
   "id": "f1cde65c",
   "metadata": {},
   "outputs": [
    {
     "data": {
      "text/plain": [
       "\"\\nclear(): Removes all items from the dictionary.\\nkeys(): Returns a view of the dictionary's keys.\\nvalues(): Returns a view of the dictionary's values.\\nitems(): Returns a view of the dictionary's key-value pairs as tuples.\\nget(): Returns the value for the specified key. If the key is not found, it returns a default value (or None if not provided).\\npop(): Removes the specified key and returns its associated value.\\nupdate(): Updates the dictionary with key-value pairs from another dictionary or iterable.\\ncopy(): Returns a shallow copy of the dictionary.\""
      ]
     },
     "execution_count": 30,
     "metadata": {},
     "output_type": "execute_result"
    }
   ],
   "source": [
    "'''\n",
    "clear(): Removes all items from the dictionary.\n",
    "keys(): Returns a view of the dictionary's keys.\n",
    "values(): Returns a view of the dictionary's values.\n",
    "items(): Returns a view of the dictionary's key-value pairs as tuples.\n",
    "get(): Returns the value for the specified key. If the key is not found, it returns a default value (or None if not provided).\n",
    "pop(): Removes the specified key and returns its associated value.\n",
    "update(): Updates the dictionary with key-value pairs from another dictionary or iterable.\n",
    "copy(): Returns a shallow copy of the dictionary.'''"
   ]
  },
  {
   "cell_type": "markdown",
   "id": "8b71d581",
   "metadata": {},
   "source": [
    "# shallow copy vs deep copy"
   ]
  },
  {
   "cell_type": "code",
   "execution_count": 36,
   "id": "87a3d4ac",
   "metadata": {},
   "outputs": [
    {
     "name": "stdout",
     "output_type": "stream",
     "text": [
      "[1, [5, 3], 4]\n",
      "[1, [5, 3], 4]\n"
     ]
    }
   ],
   "source": [
    "import copy\n",
    "\n",
    "original_list = [1, [2, 3], 4]\n",
    "shallow_copy_list = copy.copy(original_list)\n",
    "\n",
    "original_list[1][0] = 5  # Modify nested list in original\n",
    "print(original_list)      # Output: [1, [5, 3], 4]\n",
    "print(shallow_copy_list)  # Output: [1, [5, 3], 4]"
   ]
  },
  {
   "cell_type": "code",
   "execution_count": 35,
   "id": "628c2b4c",
   "metadata": {},
   "outputs": [
    {
     "name": "stdout",
     "output_type": "stream",
     "text": [
      "[1, [2, 3], 4]\n"
     ]
    }
   ],
   "source": [
    "import copy\n",
    "\n",
    "original_list = [1, [2, 3], 4]\n",
    "shallow_copy_list = copy.copy(original_list)\n",
    "print(shallow_copy_list)"
   ]
  },
  {
   "cell_type": "code",
   "execution_count": 39,
   "id": "b5976b9f",
   "metadata": {},
   "outputs": [
    {
     "name": "stdout",
     "output_type": "stream",
     "text": [
      "[1, [5, 3], 4]\n",
      "[1, [2, 3], 4]\n"
     ]
    }
   ],
   "source": [
    "import copy\n",
    "\n",
    "original_list = [1, [2, 3], 4]\n",
    "deep_copy_list = copy.deepcopy(original_list)\n",
    "\n",
    "original_list[1][0] = 5  # Modify nested list in original\n",
    "print(original_list)     # Output: [1, [5, 3], 4]\n",
    "print(deep_copy_list)    # Output: [1, [2, 3], 4]"
   ]
  },
  {
   "cell_type": "code",
   "execution_count": 38,
   "id": "cc88e569",
   "metadata": {},
   "outputs": [
    {
     "data": {
      "text/plain": [
       "[1, [2, 3], 4]"
      ]
     },
     "execution_count": 38,
     "metadata": {},
     "output_type": "execute_result"
    }
   ],
   "source": [
    "import copy\n",
    "\n",
    "original_list = [1, [2, 3], 4]\n",
    "deep_copy_list = copy.deepcopy(original_list)\n",
    "deep_copy_list"
   ]
  },
  {
   "cell_type": "markdown",
   "id": "926767c8",
   "metadata": {},
   "source": [
    "# function"
   ]
  },
  {
   "cell_type": "code",
   "execution_count": 1,
   "id": "b64b23cd",
   "metadata": {},
   "outputs": [],
   "source": [
    "def test():\n",
    "    pass"
   ]
  },
  {
   "cell_type": "code",
   "execution_count": 2,
   "id": "2ec2c557",
   "metadata": {},
   "outputs": [],
   "source": [
    "test()"
   ]
  },
  {
   "cell_type": "code",
   "execution_count": 3,
   "id": "9f03abe2",
   "metadata": {},
   "outputs": [],
   "source": [
    "def test1():\n",
    "    print(\"this is my 1st fxn\")"
   ]
  },
  {
   "cell_type": "code",
   "execution_count": 4,
   "id": "17e5cafb",
   "metadata": {},
   "outputs": [
    {
     "name": "stdout",
     "output_type": "stream",
     "text": [
      "this is my 1st fxn\n"
     ]
    }
   ],
   "source": [
    "test1()"
   ]
  },
  {
   "cell_type": "code",
   "execution_count": 5,
   "id": "5d6b4f54",
   "metadata": {},
   "outputs": [
    {
     "name": "stdout",
     "output_type": "stream",
     "text": [
      "this is my 1st fxn\n"
     ]
    }
   ],
   "source": [
    "t=test1()"
   ]
  },
  {
   "cell_type": "code",
   "execution_count": 6,
   "id": "2e473dc7",
   "metadata": {},
   "outputs": [
    {
     "data": {
      "text/plain": [
       "NoneType"
      ]
     },
     "execution_count": 6,
     "metadata": {},
     "output_type": "execute_result"
    }
   ],
   "source": [
    "type(t)"
   ]
  },
  {
   "cell_type": "code",
   "execution_count": 7,
   "id": "d4764415",
   "metadata": {},
   "outputs": [],
   "source": [
    "def test2():\n",
    "    a=1 #local variable\n",
    "    b=6\n",
    "    print(a+b)"
   ]
  },
  {
   "cell_type": "code",
   "execution_count": 8,
   "id": "c709c4d0",
   "metadata": {},
   "outputs": [
    {
     "name": "stdout",
     "output_type": "stream",
     "text": [
      "7\n"
     ]
    }
   ],
   "source": [
    "test2()"
   ]
  },
  {
   "cell_type": "code",
   "execution_count": 33,
   "id": "ce501fe7",
   "metadata": {},
   "outputs": [
    {
     "data": {
      "text/plain": [
       "1"
      ]
     },
     "execution_count": 33,
     "metadata": {},
     "output_type": "execute_result"
    }
   ],
   "source": [
    "#global variable\n",
    "a=1\n",
    "def test7():\n",
    "    b=6\n",
    "    return a+b\n",
    "test7()\n",
    "a"
   ]
  },
  {
   "cell_type": "code",
   "execution_count": 9,
   "id": "6fca8e71",
   "metadata": {},
   "outputs": [
    {
     "ename": "NameError",
     "evalue": "name 'a' is not defined",
     "output_type": "error",
     "traceback": [
      "\u001b[1;31m---------------------------------------------------------------------------\u001b[0m",
      "\u001b[1;31mNameError\u001b[0m                                 Traceback (most recent call last)",
      "Cell \u001b[1;32mIn[9], line 1\u001b[0m\n\u001b[1;32m----> 1\u001b[0m a\n",
      "\u001b[1;31mNameError\u001b[0m: name 'a' is not defined"
     ]
    }
   ],
   "source": [
    "a"
   ]
  },
  {
   "cell_type": "code",
   "execution_count": 10,
   "id": "2d9e1c36",
   "metadata": {},
   "outputs": [
    {
     "name": "stdout",
     "output_type": "stream",
     "text": [
      "7\n"
     ]
    },
    {
     "ename": "TypeError",
     "evalue": "unsupported operand type(s) for +: 'NoneType' and 'int'",
     "output_type": "error",
     "traceback": [
      "\u001b[1;31m---------------------------------------------------------------------------\u001b[0m",
      "\u001b[1;31mTypeError\u001b[0m                                 Traceback (most recent call last)",
      "Cell \u001b[1;32mIn[10], line 1\u001b[0m\n\u001b[1;32m----> 1\u001b[0m test2()\u001b[38;5;241m+\u001b[39m\u001b[38;5;241m1\u001b[39m\n",
      "\u001b[1;31mTypeError\u001b[0m: unsupported operand type(s) for +: 'NoneType' and 'int'"
     ]
    }
   ],
   "source": [
    "test2()+1"
   ]
  },
  {
   "cell_type": "code",
   "execution_count": 11,
   "id": "7a4d5d9c",
   "metadata": {},
   "outputs": [
    {
     "name": "stdout",
     "output_type": "stream",
     "text": [
      "shubh\n"
     ]
    },
    {
     "data": {
      "text/plain": [
       "NoneType"
      ]
     },
     "execution_count": 11,
     "metadata": {},
     "output_type": "execute_result"
    }
   ],
   "source": [
    "type(print(\"shubh\"))"
   ]
  },
  {
   "cell_type": "code",
   "execution_count": 12,
   "id": "737f5bcb",
   "metadata": {},
   "outputs": [],
   "source": [
    "# after using print fxn we wont be to do any kind of data manipulation"
   ]
  },
  {
   "cell_type": "code",
   "execution_count": 13,
   "id": "b0413afb",
   "metadata": {},
   "outputs": [],
   "source": [
    "def test3():\n",
    "    a=1\n",
    "    b=6\n",
    "    return a+b"
   ]
  },
  {
   "cell_type": "code",
   "execution_count": 14,
   "id": "feb0e0ca",
   "metadata": {},
   "outputs": [
    {
     "data": {
      "text/plain": [
       "8"
      ]
     },
     "execution_count": 14,
     "metadata": {},
     "output_type": "execute_result"
    }
   ],
   "source": [
    "test3()+1"
   ]
  },
  {
   "cell_type": "code",
   "execution_count": 17,
   "id": "c52be358",
   "metadata": {},
   "outputs": [
    {
     "data": {
      "text/plain": [
       "int"
      ]
     },
     "execution_count": 17,
     "metadata": {},
     "output_type": "execute_result"
    }
   ],
   "source": [
    "type(test3())"
   ]
  },
  {
   "cell_type": "code",
   "execution_count": 18,
   "id": "1c49696e",
   "metadata": {},
   "outputs": [],
   "source": [
    "def test4(a,b):\n",
    "    return a+b"
   ]
  },
  {
   "cell_type": "code",
   "execution_count": 22,
   "id": "1d3f6d97",
   "metadata": {},
   "outputs": [
    {
     "data": {
      "text/plain": [
       "9"
      ]
     },
     "execution_count": 22,
     "metadata": {},
     "output_type": "execute_result"
    }
   ],
   "source": [
    "test4(4,5)"
   ]
  },
  {
   "cell_type": "code",
   "execution_count": 23,
   "id": "f0765719",
   "metadata": {},
   "outputs": [],
   "source": [
    "def test5(a,b):\n",
    "    return a+b,a*b"
   ]
  },
  {
   "cell_type": "code",
   "execution_count": 24,
   "id": "f843b986",
   "metadata": {},
   "outputs": [
    {
     "data": {
      "text/plain": [
       "(5, 6)"
      ]
     },
     "execution_count": 24,
     "metadata": {},
     "output_type": "execute_result"
    }
   ],
   "source": [
    "test5(3,2)"
   ]
  },
  {
   "cell_type": "code",
   "execution_count": 25,
   "id": "0b04ad3d",
   "metadata": {},
   "outputs": [],
   "source": [
    "x,y=test5(3,2)"
   ]
  },
  {
   "cell_type": "code",
   "execution_count": 26,
   "id": "fbb54f81",
   "metadata": {},
   "outputs": [
    {
     "data": {
      "text/plain": [
       "5"
      ]
     },
     "execution_count": 26,
     "metadata": {},
     "output_type": "execute_result"
    }
   ],
   "source": [
    "x"
   ]
  },
  {
   "cell_type": "code",
   "execution_count": 27,
   "id": "8af96570",
   "metadata": {},
   "outputs": [
    {
     "data": {
      "text/plain": [
       "6"
      ]
     },
     "execution_count": 27,
     "metadata": {},
     "output_type": "execute_result"
    }
   ],
   "source": [
    "y"
   ]
  },
  {
   "cell_type": "code",
   "execution_count": 28,
   "id": "c92eb198",
   "metadata": {},
   "outputs": [],
   "source": [
    "def test6(a,b=\"shubh\"):\n",
    "    return a+b"
   ]
  },
  {
   "cell_type": "code",
   "execution_count": 30,
   "id": "1cb3bc63",
   "metadata": {},
   "outputs": [
    {
     "data": {
      "text/plain": [
       "'1shubh'"
      ]
     },
     "execution_count": 30,
     "metadata": {},
     "output_type": "execute_result"
    }
   ],
   "source": [
    "test6(\"1\")"
   ]
  },
  {
   "cell_type": "code",
   "execution_count": 44,
   "id": "9cd07ab7",
   "metadata": {},
   "outputs": [
    {
     "name": "stdout",
     "output_type": "stream",
     "text": [
      "2 it is not a prime\n"
     ]
    }
   ],
   "source": [
    "def prime(b):\n",
    "    for i in range(2,b):\n",
    "        if b%i==0:\n",
    "            print(i,\"it is not a prime\")\n",
    "            break     \n",
    "    else: \n",
    "        print(i,\"it is a prime\")\n",
    "            \n",
    "prime(20)"
   ]
  },
  {
   "cell_type": "code",
   "execution_count": 41,
   "id": "8edc4f36",
   "metadata": {},
   "outputs": [],
   "source": [
    "def prime(num):\n",
    "    for i in range(2,num):\n",
    "        if num%i == 0:\n",
    "            print(\"not a prime\")\n",
    "            break\n",
    "    else:\n",
    "        print(\"it's prime\")"
   ]
  },
  {
   "cell_type": "code",
   "execution_count": 46,
   "id": "277d35aa",
   "metadata": {},
   "outputs": [
    {
     "name": "stdout",
     "output_type": "stream",
     "text": [
      "2 it is a prime\n"
     ]
    }
   ],
   "source": [
    "prime(3)"
   ]
  },
  {
   "cell_type": "markdown",
   "id": "3782b2cb",
   "metadata": {},
   "source": [
    "# map()"
   ]
  },
  {
   "cell_type": "code",
   "execution_count": 49,
   "id": "1443cd2b",
   "metadata": {},
   "outputs": [
    {
     "data": {
      "text/plain": [
       "[1, 4, 9, 16]"
      ]
     },
     "execution_count": 49,
     "metadata": {},
     "output_type": "execute_result"
    }
   ],
   "source": [
    "l=[1,2,3,4]\n",
    "def square(a):\n",
    "    return a**2\n",
    "list(map(square,l))"
   ]
  },
  {
   "cell_type": "markdown",
   "id": "0159d06d",
   "metadata": {},
   "source": [
    "# lambda function (imp)"
   ]
  },
  {
   "cell_type": "code",
   "execution_count": 50,
   "id": "75f7425e",
   "metadata": {},
   "outputs": [],
   "source": [
    "# it is a small anonymous fxn\n",
    "# it can have multiple arguments but can have only one expression"
   ]
  },
  {
   "cell_type": "code",
   "execution_count": 51,
   "id": "a88451d9",
   "metadata": {},
   "outputs": [
    {
     "data": {
      "text/plain": [
       "15"
      ]
     },
     "execution_count": 51,
     "metadata": {},
     "output_type": "execute_result"
    }
   ],
   "source": [
    "x=lambda a:a+10\n",
    "x(5)"
   ]
  },
  {
   "cell_type": "code",
   "execution_count": 52,
   "id": "1cc173af",
   "metadata": {},
   "outputs": [
    {
     "data": {
      "text/plain": [
       "10"
      ]
     },
     "execution_count": 52,
     "metadata": {},
     "output_type": "execute_result"
    }
   ],
   "source": [
    "x=lambda a,b:a*b\n",
    "x(2,5)"
   ]
  },
  {
   "cell_type": "code",
   "execution_count": 53,
   "id": "6e2d9c24",
   "metadata": {},
   "outputs": [
    {
     "data": {
      "text/plain": [
       "[1, 4, 9, 16]"
      ]
     },
     "execution_count": 53,
     "metadata": {},
     "output_type": "execute_result"
    }
   ],
   "source": [
    "x= lambda a:a**2\n",
    "list(map(x,l))"
   ]
  },
  {
   "cell_type": "markdown",
   "id": "86718157",
   "metadata": {},
   "source": [
    "# reduce()"
   ]
  },
  {
   "cell_type": "code",
   "execution_count": 55,
   "id": "8b66ae78",
   "metadata": {},
   "outputs": [
    {
     "data": {
      "text/plain": [
       "10"
      ]
     },
     "execution_count": 55,
     "metadata": {},
     "output_type": "execute_result"
    }
   ],
   "source": [
    "from functools import reduce\n",
    "l=[1,2,3,4]\n",
    "reduce(lambda x,y:x+y,l)"
   ]
  },
  {
   "cell_type": "code",
   "execution_count": 56,
   "id": "6e186932",
   "metadata": {},
   "outputs": [
    {
     "data": {
      "text/plain": [
       "[4, 6]"
      ]
     },
     "execution_count": 56,
     "metadata": {},
     "output_type": "execute_result"
    }
   ],
   "source": [
    "l=[4,5,6,7]\n",
    "a=[x for x in l if x%2==0]\n",
    "a"
   ]
  },
  {
   "cell_type": "markdown",
   "id": "3eaa1544",
   "metadata": {},
   "source": [
    "# filter()"
   ]
  },
  {
   "cell_type": "code",
   "execution_count": 58,
   "id": "3ed7f759",
   "metadata": {},
   "outputs": [
    {
     "data": {
      "text/plain": [
       "[4, 6]"
      ]
     },
     "execution_count": 58,
     "metadata": {},
     "output_type": "execute_result"
    }
   ],
   "source": [
    "a=list(filter(lambda x:x%2==0,l))\n",
    "a"
   ]
  },
  {
   "cell_type": "code",
   "execution_count": 59,
   "id": "1f567490",
   "metadata": {},
   "outputs": [],
   "source": [
    "#map,reduce and filter k parameter me function aur iterable hota h"
   ]
  },
  {
   "cell_type": "code",
   "execution_count": 60,
   "id": "64e03597",
   "metadata": {},
   "outputs": [
    {
     "data": {
      "text/plain": [
       "\"\\nWhat is a function in Python? How do you define a function?\\nExplain the difference between return and print statements in Python functions.\\nWhat are local variables in Python? How are they different from global variables?\\nHow do you define a global variable inside a function?\\nExplain the concept of scope in Python. How does it relate to local and global variables?\\nWhat is a lambda function? When would you use lambda functions over regular functions?\\nHow can you modify a global variable inside a function?\\nWhat happens if you try to access a variable before it's assigned a value inside a function?\\nDescribe the LEGB rule in Python and its significance in variable resolution.\\nCan you have a function inside another function in Python? If yes, provide an example.\\nHow do you pass arguments to a function in Python? Explain the difference between positional and keyword arguments.\\nWhat is the purpose of the global keyword in Python? Provide an example.\\nExplain the concept of a closure in Python. How are closures related to nested functions?\\nWhat is the significance of the nonlocal keyword in Python? Provide an example.\\nHow can you determine the number of arguments passed to a function dynamically?\""
      ]
     },
     "execution_count": 60,
     "metadata": {},
     "output_type": "execute_result"
    }
   ],
   "source": [
    "'''\n",
    "What is a function in Python? How do you define a function?\n",
    "Explain the difference between return and print statements in Python functions.\n",
    "What are local variables in Python? How are they different from global variables?\n",
    "How do you define a global variable inside a function?\n",
    "Explain the concept of scope in Python. How does it relate to local and global variables?\n",
    "What is a lambda function? When would you use lambda functions over regular functions?\n",
    "How can you modify a global variable inside a function?\n",
    "What happens if you try to access a variable before it's assigned a value inside a function?\n",
    "Describe the LEGB rule in Python and its significance in variable resolution.\n",
    "Can you have a function inside another function in Python? If yes, provide an example.\n",
    "# How do you pass arguments to a function in Python? Explain the difference between positional and keyword arguments.\n",
    "What is the purpose of the global keyword in Python? Provide an example.\n",
    "Explain the concept of a closure in Python. How are closures related to nested functions?\n",
    "What is the significance of the nonlocal keyword in Python? Provide an example.\n",
    "How can you determine the number of arguments passed to a function dynamically?'''"
   ]
  },
  {
   "cell_type": "code",
   "execution_count": 61,
   "id": "717b6df7",
   "metadata": {},
   "outputs": [
    {
     "name": "stdout",
     "output_type": "stream",
     "text": [
      "Global variable: 20\n"
     ]
    }
   ],
   "source": [
    "# Define a global variable outside the function\n",
    "global_var = 10\n",
    "\n",
    "def modify_global():\n",
    "    # Use the global keyword to access the global variable inside the function\n",
    "    global global_var\n",
    "    global_var = 20\n",
    "\n",
    "# Call the function to modify the global variable\n",
    "modify_global()\n",
    "\n",
    "# Print the modified global variable\n",
    "print(\"Global variable:\", global_var)"
   ]
  },
  {
   "cell_type": "markdown",
   "id": "11722f9f",
   "metadata": {},
   "source": [
    "# class"
   ]
  },
  {
   "cell_type": "code",
   "execution_count": 11,
   "id": "a7f4bfe4",
   "metadata": {},
   "outputs": [],
   "source": [
    "class person:\n",
    "    def __init__(self,name,surname,yob): \n",
    "        self.name= name\n",
    "        self.surname= surname\n",
    "        self.yob= yob\n"
   ]
  },
  {
   "cell_type": "code",
   "execution_count": null,
   "id": "0cfc323b",
   "metadata": {},
   "outputs": [],
   "source": [
    "'''\n",
    "__init__ is a special method (also known as a constructor) that is automatically called when an object is created from a class.\n",
    "The double underscores before and after \"init\" indicate that this is a special method in Python.'''"
   ]
  },
  {
   "cell_type": "code",
   "execution_count": 12,
   "id": "43ba7a6e",
   "metadata": {},
   "outputs": [],
   "source": [
    "p=person(\"shubh\",\"singh\",1234)"
   ]
  },
  {
   "cell_type": "code",
   "execution_count": 13,
   "id": "2cb0d8d3",
   "metadata": {},
   "outputs": [
    {
     "data": {
      "text/plain": [
       "<__main__.person at 0x1e1c2811e50>"
      ]
     },
     "execution_count": 13,
     "metadata": {},
     "output_type": "execute_result"
    }
   ],
   "source": [
    "p"
   ]
  },
  {
   "cell_type": "code",
   "execution_count": 14,
   "id": "30159bad",
   "metadata": {},
   "outputs": [
    {
     "data": {
      "text/plain": [
       "'shubh'"
      ]
     },
     "execution_count": 14,
     "metadata": {},
     "output_type": "execute_result"
    }
   ],
   "source": [
    "p.name"
   ]
  },
  {
   "cell_type": "code",
   "execution_count": 15,
   "id": "65c3c7cc",
   "metadata": {},
   "outputs": [
    {
     "data": {
      "text/plain": [
       "'singh'"
      ]
     },
     "execution_count": 15,
     "metadata": {},
     "output_type": "execute_result"
    }
   ],
   "source": [
    "p.surname"
   ]
  },
  {
   "cell_type": "code",
   "execution_count": 16,
   "id": "69a01747",
   "metadata": {},
   "outputs": [
    {
     "ename": "TypeError",
     "evalue": "person.__init__() missing 3 required positional arguments: 'name', 'surname', and 'yob'",
     "output_type": "error",
     "traceback": [
      "\u001b[1;31m---------------------------------------------------------------------------\u001b[0m",
      "\u001b[1;31mTypeError\u001b[0m                                 Traceback (most recent call last)",
      "Cell \u001b[1;32mIn[16], line 1\u001b[0m\n\u001b[1;32m----> 1\u001b[0m p\u001b[38;5;241m=\u001b[39mperson()\n",
      "\u001b[1;31mTypeError\u001b[0m: person.__init__() missing 3 required positional arguments: 'name', 'surname', and 'yob'"
     ]
    }
   ],
   "source": [
    "p=person()"
   ]
  },
  {
   "cell_type": "code",
   "execution_count": 7,
   "id": "064b30da",
   "metadata": {},
   "outputs": [],
   "source": [
    "s=person(\"ankush\",\"singh\",1234)"
   ]
  },
  {
   "cell_type": "code",
   "execution_count": 8,
   "id": "61c93b68",
   "metadata": {},
   "outputs": [
    {
     "data": {
      "text/plain": [
       "'ankush'"
      ]
     },
     "execution_count": 8,
     "metadata": {},
     "output_type": "execute_result"
    }
   ],
   "source": [
    "s.name"
   ]
  },
  {
   "cell_type": "code",
   "execution_count": 17,
   "id": "0ea955ff",
   "metadata": {},
   "outputs": [],
   "source": [
    "class person:\n",
    "    def __init__(self,name,surname,yob): \n",
    "        self.name= name\n",
    "        self.surname= surname\n",
    "        self.yob= yob\n",
    "    def test(self,a,b):\n",
    "        return a+b+self.yob"
   ]
  },
  {
   "cell_type": "markdown",
   "id": "8f6ba688",
   "metadata": {},
   "source": [
    "# how to access multiple fxns in a class"
   ]
  },
  {
   "cell_type": "code",
   "execution_count": 20,
   "id": "7310c978",
   "metadata": {},
   "outputs": [
    {
     "name": "stdout",
     "output_type": "stream",
     "text": [
      "Hello!\n",
      "Goodbye!\n"
     ]
    }
   ],
   "source": [
    "class MyClass:\n",
    "    def greet(self):\n",
    "        print(\"Hello!\")\n",
    "\n",
    "    def farewell(self):\n",
    "        print(\"Goodbye!\")\n",
    "\n",
    "# Create an instance of the class\n",
    "my_object = MyClass()\n",
    "\n",
    "# Call the functions using dot notation\n",
    "my_object.greet()  # Output: Hello!\n",
    "my_object.farewell()  # Output: Goodbye!\n"
   ]
  },
  {
   "cell_type": "markdown",
   "id": "8f9169a9",
   "metadata": {},
   "source": [
    "# oops concept"
   ]
  },
  {
   "cell_type": "markdown",
   "id": "54a13bbe",
   "metadata": {},
   "source": [
    "\n",
    "Object-oriented programming (OOP) is a programming paradigm based on the concept of \"objects,\" which can contain data (attributes) and code (methods). Python fully supports OOP, and it provides features such as classes, objects, inheritance, polymorphism, and encapsulation. "
   ]
  },
  {
   "cell_type": "code",
   "execution_count": 23,
   "id": "b08e2984",
   "metadata": {},
   "outputs": [],
   "source": [
    "\n",
    "# Class: A class is a blueprint for creating objects. It defines the attributes (data) and methods (functions) that all objects of the class will have. Classes in Python are defined using the class keyword.\n",
    "class MyClass:\n",
    "    # Constructor method (__init__)\n",
    "    def __init__(self, x, y):\n",
    "        self.x = x\n",
    "        self.y = y\n",
    "\n",
    "    # Method\n",
    "    def my_method(self):\n",
    "        print(\"Hello from MyClass\")"
   ]
  },
  {
   "cell_type": "code",
   "execution_count": 24,
   "id": "46c4f240",
   "metadata": {},
   "outputs": [],
   "source": [
    "# Object (Instance): An object is an instance of a class. It represents a specific instance of the class, with its own unique data and behavior. You create objects by calling the class as if it were a function.\n",
    "\n",
    "obj = MyClass(10, 20)\n"
   ]
  },
  {
   "cell_type": "code",
   "execution_count": 25,
   "id": "ff256036",
   "metadata": {},
   "outputs": [
    {
     "name": "stdout",
     "output_type": "stream",
     "text": [
      "10\n"
     ]
    }
   ],
   "source": [
    "# Attributes: Attributes are variables that belong to objects. They represent the object's state or data. You access attributes using dot notation.\n",
    "\n",
    "print(obj.x)  # Accessing attribute x\n"
   ]
  },
  {
   "cell_type": "code",
   "execution_count": 26,
   "id": "0b63a921",
   "metadata": {},
   "outputs": [
    {
     "name": "stdout",
     "output_type": "stream",
     "text": [
      "Hello from MyClass\n"
     ]
    }
   ],
   "source": [
    "# Methods: Methods are functions that belong to objects. They define the behavior or actions that objects of the class can perform.\n",
    "\n",
    "obj.my_method()  # Calling method my_method\n",
    "\n"
   ]
  },
  {
   "cell_type": "markdown",
   "id": "65bb4325",
   "metadata": {},
   "source": [
    "# Abstraction"
   ]
  },
  {
   "cell_type": "markdown",
   "id": "aa7f6a75",
   "metadata": {},
   "source": [
    "Abstraction is a fundamental concept in object-oriented programming that involves hiding the implementation details of a class and only showing the essential features of the object. \n"
   ]
  },
  {
   "cell_type": "code",
   "execution_count": null,
   "id": "e6b9668c",
   "metadata": {},
   "outputs": [],
   "source": [
    "public -->(self.name=name) \n",
    "protected -->(self._name=name) #single underscore _\n",
    "private -->(self.__name=name) #double underscore __\n",
    "\n"
   ]
  },
  {
   "cell_type": "code",
   "execution_count": 28,
   "id": "820d7f24",
   "metadata": {},
   "outputs": [],
   "source": [
    "# how to access protected variable present inside an class\n",
    "class person1:\n",
    "    def __init__(self,name,surname,yob): \n",
    "        self._name= name\n",
    "        self.surname= surname\n",
    "        self.yob= yob"
   ]
  },
  {
   "cell_type": "code",
   "execution_count": 29,
   "id": "bc756d6d",
   "metadata": {},
   "outputs": [],
   "source": [
    "x=person1(\"shubh\",\"singh\",1234)\n",
    "    "
   ]
  },
  {
   "cell_type": "code",
   "execution_count": 30,
   "id": "35abed0c",
   "metadata": {},
   "outputs": [
    {
     "ename": "AttributeError",
     "evalue": "'person1' object has no attribute 'name'",
     "output_type": "error",
     "traceback": [
      "\u001b[1;31m---------------------------------------------------------------------------\u001b[0m",
      "\u001b[1;31mAttributeError\u001b[0m                            Traceback (most recent call last)",
      "Cell \u001b[1;32mIn[30], line 1\u001b[0m\n\u001b[1;32m----> 1\u001b[0m x\u001b[38;5;241m.\u001b[39mname\n",
      "\u001b[1;31mAttributeError\u001b[0m: 'person1' object has no attribute 'name'"
     ]
    }
   ],
   "source": [
    "x.name"
   ]
  },
  {
   "cell_type": "code",
   "execution_count": 31,
   "id": "abb04640",
   "metadata": {},
   "outputs": [
    {
     "data": {
      "text/plain": [
       "'shubh'"
      ]
     },
     "execution_count": 31,
     "metadata": {},
     "output_type": "execute_result"
    }
   ],
   "source": [
    "x._name"
   ]
  },
  {
   "cell_type": "code",
   "execution_count": 34,
   "id": "d978d27d",
   "metadata": {},
   "outputs": [],
   "source": [
    "# how to access private variable\n",
    "class person:\n",
    "    def __init__(self,name,surname,yob): \n",
    "        self.__name= name\n",
    "        self.surname= surname\n",
    "        self.yob= yob"
   ]
  },
  {
   "cell_type": "code",
   "execution_count": 35,
   "id": "a1f59787",
   "metadata": {},
   "outputs": [],
   "source": [
    "y=person2(\"shubh\",\"singh\",1234)"
   ]
  },
  {
   "cell_type": "code",
   "execution_count": 36,
   "id": "e1840dca",
   "metadata": {},
   "outputs": [
    {
     "ename": "AttributeError",
     "evalue": "'person2' object has no attribute '__name'",
     "output_type": "error",
     "traceback": [
      "\u001b[1;31m---------------------------------------------------------------------------\u001b[0m",
      "\u001b[1;31mAttributeError\u001b[0m                            Traceback (most recent call last)",
      "Cell \u001b[1;32mIn[36], line 1\u001b[0m\n\u001b[1;32m----> 1\u001b[0m y\u001b[38;5;241m.\u001b[39m__name\n",
      "\u001b[1;31mAttributeError\u001b[0m: 'person2' object has no attribute '__name'"
     ]
    }
   ],
   "source": [
    "y.__name"
   ]
  },
  {
   "cell_type": "code",
   "execution_count": 37,
   "id": "081f13f3",
   "metadata": {},
   "outputs": [
    {
     "data": {
      "text/plain": [
       "{'_person2__name': 'shubh', 'surname': 'singh', 'yob': 1234}"
      ]
     },
     "execution_count": 37,
     "metadata": {},
     "output_type": "execute_result"
    }
   ],
   "source": [
    "y.__dict__"
   ]
  },
  {
   "cell_type": "code",
   "execution_count": 38,
   "id": "698ed63e",
   "metadata": {},
   "outputs": [
    {
     "data": {
      "text/plain": [
       "'shubh'"
      ]
     },
     "execution_count": 38,
     "metadata": {},
     "output_type": "execute_result"
    }
   ],
   "source": [
    "y._person2__name"
   ]
  },
  {
   "cell_type": "code",
   "execution_count": 39,
   "id": "14feceb9",
   "metadata": {},
   "outputs": [
    {
     "data": {
      "text/plain": [
       "\"in Python, there are three main types of inheritance:\\n\\nSingle Inheritance:\\n\\nA class can inherit from only one base class.\\nExample:\\nclass Parent:\\n    pass\\n\\nclass Child(Parent):\\n    pass\\n\\nMultiple Inheritance:\\n\\nA class can inherit from more than one base class.\\nExample:\\nclass Parent1:\\n    pass\\n\\nclass Parent2:\\n    pass\\n\\nclass Child(Parent1, Parent2):\\n    pass\\nMultilevel Inheritance:\\n\\nA class can inherit from a base class, and then another class can inherit from this derived class.\\nExample:\\nclass Grandparent:\\n    pass\\n\\nclass Parent(Grandparent):\\n    pass\\n\\nclass Child(Parent):\\n    pass\\nThese types of inheritance allow you to reuse code and build relationships between classes. It's important to note that Python supports multiple inheritance, but it can lead to complexities and potential issues, such as the diamond problem (a situation where a class inherits from two classes that have a common ancestor). To mitigate such issues, Python provides a method resolution order (MRO) that determines the order in which base classes are considered during method resolution.\\n\\n\""
      ]
     },
     "execution_count": 39,
     "metadata": {},
     "output_type": "execute_result"
    }
   ],
   "source": [
    "'''in Python, there are three main types of inheritance:\n",
    "\n",
    "Single Inheritance:\n",
    "\n",
    "A class can inherit from only one base class.\n",
    "Example:\n",
    "class Parent:\n",
    "    pass\n",
    "\n",
    "class Child(Parent):\n",
    "    pass\n",
    "\n",
    "Multiple Inheritance:\n",
    "\n",
    "A class can inherit from more than one base class.\n",
    "Example:\n",
    "class Parent1:\n",
    "    pass\n",
    "\n",
    "class Parent2:\n",
    "    pass\n",
    "\n",
    "class Child(Parent1, Parent2):\n",
    "    pass\n",
    "Multilevel Inheritance:\n",
    "\n",
    "A class can inherit from a base class, and then another class can inherit from this derived class.\n",
    "Example:\n",
    "class Grandparent:\n",
    "    pass\n",
    "\n",
    "class Parent(Grandparent):\n",
    "    pass\n",
    "\n",
    "class Child(Parent):\n",
    "    pass\n",
    "These types of inheritance allow you to reuse code and build relationships between classes. It's important to note that Python supports multiple inheritance, but it can lead to complexities and potential issues, such as the diamond problem (a situation where a class inherits from two classes that have a common ancestor). To mitigate such issues, Python provides a method resolution order (MRO) that determines the order in which base classes are considered during method resolution.\n",
    "\n",
    "'''"
   ]
  },
  {
   "cell_type": "code",
   "execution_count": null,
   "id": "17bdb4c0",
   "metadata": {},
   "outputs": [],
   "source": [
    "import multiprocessing\n",
    "\n",
    "def square_worker(number):\n",
    "    result = number * number\n",
    "    print(f\"The square of {number} is {result}\")\n",
    "\n",
    "if __name__ == \"__main__\":\n",
    "    # Sample list of numbers\n",
    "    numbers = [1, 2, 3, 4, 5]\n",
    "\n",
    "    # Create a multiprocessing pool with 2 processes\n",
    "    pool = multiprocessing.Pool(processes=2)\n",
    "\n",
    "    # Use the map function to apply the square_worker to each number in the list\n",
    "    pool.map(square_worker, numbers)\n",
    "\n",
    "    # Close the pool to free up resources\n",
    "    pool.close()\n",
    "\n",
    "    # Wait for all processes to finish\n",
    "    pool.join()\n"
   ]
  },
  {
   "cell_type": "code",
   "execution_count": 13,
   "id": "737a4c02",
   "metadata": {},
   "outputs": [],
   "source": [
    "class person:\n",
    "    def __init__(self,name,surname,yob):\n",
    "        self._name=name\n",
    "        self.surname=surname\n",
    "        self.yob=yob\n",
    "        \n",
    "    def test(self,n,m):\n",
    "        return n+m+self.yob\n",
    "    \n",
    "class student(person):\n",
    "    def __init__(self,rollno,cllg,*args):\n",
    "        self.rollno=rollno\n",
    "        self.cllg=cllg\n",
    "        super(student,self).__init__(*args)\n",
    "        \n",
    "        \n",
    "s=student(123,\"martand\",\"chd\",\"singh\",112)#pehle chile ka argument fir parent ka"
   ]
  },
  {
   "cell_type": "code",
   "execution_count": 14,
   "id": "3fef8eba",
   "metadata": {},
   "outputs": [
    {
     "data": {
      "text/plain": [
       "'chd'"
      ]
     },
     "execution_count": 14,
     "metadata": {},
     "output_type": "execute_result"
    }
   ],
   "source": [
    "s._name"
   ]
  },
  {
   "cell_type": "code",
   "execution_count": 15,
   "id": "f9a2a724",
   "metadata": {},
   "outputs": [],
   "source": [
    "#super"
   ]
  },
  {
   "cell_type": "markdown",
   "id": "aa16cb41",
   "metadata": {},
   "source": [
    "# encapsulation"
   ]
  },
  {
   "cell_type": "code",
   "execution_count": 33,
   "id": "6f669103",
   "metadata": {},
   "outputs": [],
   "source": [
    "class tyre:\n",
    "    def __init__(self,branch,baise,opt_pre):\n",
    "        self.branch=branch\n",
    "        self.baise=baise\n",
    "        self.opt_pre=opt_pre\n",
    "    def __str__(self):\n",
    "        return str(self.branch)+\" \" + str(self.baise)+ \" \"+ str(self.opt_pre)\n",
    "        \n",
    "t=tyre(\"xyz\",56,26)\n",
    "\n",
    "\n",
    "\n",
    "class engine:\n",
    "    def __init__(self,fueltype,noiselevel):\n",
    "        self.fueltype=fueltype\n",
    "        self.noiselevel=noiselevel\n",
    "        \n",
    "    def __str__(self):\n",
    "        return str(self.fueltype)+\" \" + str(self.noiselevel)\n",
    "    \n",
    "e=engine(\"petrol\",56)\n",
    "\n",
    "\n",
    "class body:\n",
    "    def __init__(self,bodysize):\n",
    "        self.bodysize=bodysize\n",
    "        \n",
    "    def __str__(self):\n",
    "        return str(self.bodysize)\n",
    "    \n",
    "b=body(\"small\")\n",
    "\n",
    "\n",
    "class car:\n",
    "    def __init__(self,ti,ei,bo):\n",
    "        self.bo=bo\n",
    "        self.ti=ti\n",
    "        self.ei=ei\n",
    "        \n",
    "    def __str__(self):\n",
    "        return str(self.ti)+\" \" + str(self.ei)+ \" \"+ str(self.bo)\n",
    "    \n",
    "c=car(t,e,b)\n",
    "    "
   ]
  },
  {
   "cell_type": "code",
   "execution_count": 29,
   "id": "92a6a760",
   "metadata": {},
   "outputs": [
    {
     "name": "stdout",
     "output_type": "stream",
     "text": [
      "xyz 56 26\n"
     ]
    }
   ],
   "source": [
    "print(t)\n"
   ]
  },
  {
   "cell_type": "code",
   "execution_count": 30,
   "id": "b92d51e7",
   "metadata": {},
   "outputs": [
    {
     "name": "stdout",
     "output_type": "stream",
     "text": [
      "petrol 56\n"
     ]
    }
   ],
   "source": [
    "print(e)"
   ]
  },
  {
   "cell_type": "code",
   "execution_count": 32,
   "id": "ff02893a",
   "metadata": {},
   "outputs": [
    {
     "name": "stdout",
     "output_type": "stream",
     "text": [
      "small\n"
     ]
    }
   ],
   "source": [
    "print(b)"
   ]
  },
  {
   "cell_type": "code",
   "execution_count": 34,
   "id": "feb0b20d",
   "metadata": {},
   "outputs": [
    {
     "name": "stdout",
     "output_type": "stream",
     "text": [
      "xyz 56 26 petrol 56 small\n"
     ]
    }
   ],
   "source": [
    "print(c)"
   ]
  },
  {
   "cell_type": "code",
   "execution_count": 1,
   "id": "0422edc7",
   "metadata": {},
   "outputs": [
    {
     "data": {
      "text/plain": [
       "'\\nEncapsulation in Python refers to the bundling of data (attributes) and methods (functions) that operate \\non the data into a single unit, called a class.\\nIt is a fundamental concept of object-oriented programming (OOP) that promotes data hiding and abstraction.'"
      ]
     },
     "execution_count": 1,
     "metadata": {},
     "output_type": "execute_result"
    }
   ],
   "source": [
    "'''\n",
    "Encapsulation in Python refers to the bundling of data (attributes) and methods (functions) that operate \n",
    "on the data into a single unit, called a class.\n",
    "It is a fundamental concept of object-oriented programming (OOP) that promotes data hiding and abstraction.'''"
   ]
  },
  {
   "cell_type": "markdown",
   "id": "8dfc1c3e",
   "metadata": {},
   "source": [
    "# polymorphism"
   ]
  },
  {
   "cell_type": "code",
   "execution_count": 2,
   "id": "c114ce85",
   "metadata": {},
   "outputs": [
    {
     "data": {
      "text/plain": [
       "'shubhsingh'"
      ]
     },
     "execution_count": 2,
     "metadata": {},
     "output_type": "execute_result"
    }
   ],
   "source": [
    "def add_x(a,b):\n",
    "    return a+b\n",
    "add_x(\"shubh\",\"singh\")"
   ]
  },
  {
   "cell_type": "code",
   "execution_count": 3,
   "id": "b69103bd",
   "metadata": {},
   "outputs": [
    {
     "data": {
      "text/plain": [
       "5"
      ]
     },
     "execution_count": 3,
     "metadata": {},
     "output_type": "execute_result"
    }
   ],
   "source": [
    "add_x(2,3)"
   ]
  },
  {
   "cell_type": "code",
   "execution_count": 4,
   "id": "724b2fee",
   "metadata": {},
   "outputs": [
    {
     "data": {
      "text/plain": [
       "[1, 2, 3, 4, 5, 6, 7]"
      ]
     },
     "execution_count": 4,
     "metadata": {},
     "output_type": "execute_result"
    }
   ],
   "source": [
    "add_x([1,2,3,4],[5,6,7])"
   ]
  },
  {
   "cell_type": "markdown",
   "id": "a588ba69",
   "metadata": {},
   "source": [
    "# file operation"
   ]
  },
  {
   "cell_type": "code",
   "execution_count": 5,
   "id": "b396aa8a",
   "metadata": {},
   "outputs": [],
   "source": [
    "#four modes of opening a file: \n",
    "#  1. r(read)-open file for reading, error\n",
    "#  2. a(append)- open file for appending,create\n",
    "#  3. w(write)- open file for writing, create\n",
    "#  4. x(create)- creating a file,error\n",
    "#   we should use append not write"
   ]
  },
  {
   "cell_type": "markdown",
   "id": "24273398",
   "metadata": {},
   "source": [
    "opening a file using open()"
   ]
  },
  {
   "cell_type": "code",
   "execution_count": 31,
   "id": "6b62bb9d",
   "metadata": {},
   "outputs": [],
   "source": [
    "file=open(\"xyz.txt\",\"r\")"
   ]
  },
  {
   "cell_type": "markdown",
   "id": "82c0da19",
   "metadata": {},
   "source": [
    "Reading from a File: Use methods like read(), readline(), or readlines() to read data from the file."
   ]
  },
  {
   "cell_type": "code",
   "execution_count": 28,
   "id": "7c4897cb",
   "metadata": {},
   "outputs": [
    {
     "data": {
      "text/plain": [
       "'in Python, polymorphisms refer to the occurrence of something in multiple forms.\\nAs part of polymorphism, a Python child class has methods with the same name as a parent class method.\\nThis is an essential part of programming. A single type of entity is used to represent a variety of types in different contexts (methods, operators, objects, etc.)\\n\\nPolymorphism may be used in Python in various ways. Polymorphism can be defined using numerous functions, class methods, and objects. So, let us deep-dive into each of these ways.\\n\\nLearn more about Python and Data Science with our Caltech Post Graduate Program In Data Science.'"
      ]
     },
     "execution_count": 28,
     "metadata": {},
     "output_type": "execute_result"
    }
   ],
   "source": [
    "content=file.read()\n",
    "content"
   ]
  },
  {
   "cell_type": "code",
   "execution_count": 30,
   "id": "e367e017",
   "metadata": {},
   "outputs": [
    {
     "data": {
      "text/plain": [
       "['in Python, polymorphisms refer to the occurrence of something in multiple forms.\\n',\n",
       " 'As part of polymorphism, a Python child class has methods with the same name as a parent class method.\\n',\n",
       " 'This is an essential part of programming. A single type of entity is used to represent a variety of types in different contexts (methods, operators, objects, etc.)\\n',\n",
       " '\\n',\n",
       " 'Polymorphism may be used in Python in various ways. Polymorphism can be defined using numerous functions, class methods, and objects. So, let us deep-dive into each of these ways.\\n',\n",
       " '\\n',\n",
       " 'Learn more about Python and Data Science with our Caltech Post Graduate Program In Data Science.']"
      ]
     },
     "execution_count": 30,
     "metadata": {},
     "output_type": "execute_result"
    }
   ],
   "source": [
    "line=file.readlines()\n",
    "line"
   ]
  },
  {
   "cell_type": "code",
   "execution_count": 22,
   "id": "e4a33638",
   "metadata": {},
   "outputs": [
    {
     "data": {
      "text/plain": [
       "''"
      ]
     },
     "execution_count": 22,
     "metadata": {},
     "output_type": "execute_result"
    }
   ],
   "source": [
    "line"
   ]
  },
  {
   "cell_type": "code",
   "execution_count": 32,
   "id": "36d85fbb",
   "metadata": {},
   "outputs": [
    {
     "data": {
      "text/plain": [
       "'in Python, polymorphisms refer to the occurrence of something in multiple forms.\\n'"
      ]
     },
     "execution_count": 32,
     "metadata": {},
     "output_type": "execute_result"
    }
   ],
   "source": [
    "line=file.readline()\n",
    "line"
   ]
  },
  {
   "cell_type": "markdown",
   "id": "26fa1976",
   "metadata": {},
   "source": [
    "writing a file"
   ]
  },
  {
   "cell_type": "markdown",
   "id": "c27ff8e7",
   "metadata": {},
   "source": [
    "Writing to a File: Open a file in write or append mode and use the write() method to write data to the file."
   ]
  },
  {
   "cell_type": "code",
   "execution_count": 34,
   "id": "21c6fe0d",
   "metadata": {},
   "outputs": [],
   "source": [
    "with open(\"output.txt\",\"w\") as file:\n",
    "    file.write(\"this is shubh\\n\")"
   ]
  },
  {
   "cell_type": "code",
   "execution_count": 36,
   "id": "cb9435a3",
   "metadata": {},
   "outputs": [
    {
     "name": "stdout",
     "output_type": "stream",
     "text": [
      "Writing xy.txt\n"
     ]
    }
   ],
   "source": [
    "%%writefile xy.txt\n",
    "\"my name is shubh\""
   ]
  },
  {
   "cell_type": "markdown",
   "id": "a9e664d6",
   "metadata": {},
   "source": [
    "Appending to a File: Open a file in append mode to add content at the end of the file."
   ]
  },
  {
   "cell_type": "code",
   "execution_count": 37,
   "id": "c07d496c",
   "metadata": {},
   "outputs": [],
   "source": [
    "with open(\"output.txt\",\"a\") as file:\n",
    "    file.write(\"new line appended\\n\")"
   ]
  },
  {
   "cell_type": "markdown",
   "id": "b75ef541",
   "metadata": {},
   "source": [
    "Closing a File: Always close the file using the close() method when you're done with it."
   ]
  },
  {
   "cell_type": "code",
   "execution_count": 38,
   "id": "ef188d21",
   "metadata": {},
   "outputs": [],
   "source": [
    "file.close()"
   ]
  },
  {
   "cell_type": "code",
   "execution_count": 41,
   "id": "4867238e",
   "metadata": {},
   "outputs": [],
   "source": [
    "with open(\"output.txt\",\"r\") as file:\n",
    "    a=file.read()"
   ]
  },
  {
   "cell_type": "code",
   "execution_count": 42,
   "id": "386979b9",
   "metadata": {},
   "outputs": [
    {
     "data": {
      "text/plain": [
       "'this is shubh\\nnew line appended\\n'"
      ]
     },
     "execution_count": 42,
     "metadata": {},
     "output_type": "execute_result"
    }
   ],
   "source": [
    "a"
   ]
  },
  {
   "cell_type": "markdown",
   "id": "cd837605",
   "metadata": {},
   "source": [
    "Seeking Within a File: Use the seek() method to move the file cursor to a specific position."
   ]
  },
  {
   "cell_type": "code",
   "execution_count": 44,
   "id": "89ad2629",
   "metadata": {},
   "outputs": [
    {
     "ename": "AttributeError",
     "evalue": "'str' object has no attribute 'seek'",
     "output_type": "error",
     "traceback": [
      "\u001b[1;31m---------------------------------------------------------------------------\u001b[0m",
      "\u001b[1;31mAttributeError\u001b[0m                            Traceback (most recent call last)",
      "Cell \u001b[1;32mIn[44], line 1\u001b[0m\n\u001b[1;32m----> 1\u001b[0m a\u001b[38;5;241m.\u001b[39mseek(\u001b[38;5;241m0\u001b[39m)\n",
      "\u001b[1;31mAttributeError\u001b[0m: 'str' object has no attribute 'seek'"
     ]
    }
   ],
   "source": [
    "a.seek(0)"
   ]
  },
  {
   "cell_type": "code",
   "execution_count": 49,
   "id": "01946a62",
   "metadata": {},
   "outputs": [
    {
     "name": "stdout",
     "output_type": "stream",
     "text": [
      "ubh\n",
      "new line appended\n",
      "\n"
     ]
    }
   ],
   "source": [
    "# Open a file in read mode\n",
    "with open(\"output.txt\", \"r\") as file:\n",
    "    # Move the file cursor to the 10th byte from the beginning of the file\n",
    "    file.seek(10)\n",
    "    # Read and print the content from the current file position\n",
    "    print(file.read())"
   ]
  },
  {
   "cell_type": "code",
   "execution_count": null,
   "id": "7d839df4",
   "metadata": {},
   "outputs": [],
   "source": []
  }
 ],
 "metadata": {
  "kernelspec": {
   "display_name": "Python 3 (ipykernel)",
   "language": "python",
   "name": "python3"
  },
  "language_info": {
   "codemirror_mode": {
    "name": "ipython",
    "version": 3
   },
   "file_extension": ".py",
   "mimetype": "text/x-python",
   "name": "python",
   "nbconvert_exporter": "python",
   "pygments_lexer": "ipython3",
   "version": "3.11.5"
  }
 },
 "nbformat": 4,
 "nbformat_minor": 5
}
